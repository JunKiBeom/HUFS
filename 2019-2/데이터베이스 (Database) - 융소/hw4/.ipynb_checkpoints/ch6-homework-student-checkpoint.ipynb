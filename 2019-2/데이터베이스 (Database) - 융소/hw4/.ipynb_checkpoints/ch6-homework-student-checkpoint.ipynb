{
 "cells": [
  {
   "cell_type": "markdown",
   "metadata": {},
   "source": [
    "# Homework - SQL2\n",
    "\n",
    "\n",
    "## 주의사항.\n",
    "\n",
    "- 권고사항: 모든 SQL select 문에 tuple variable를 사용할 것.\n",
    "- ./loadcompany를 실행하여 DB state를 원래 상태로 만든 다음에 숙제를 한다\n",
    "- Putty screenshot을 찍을 때 \n",
    "    - putty를 background white, foreground black으로 설정 변경한다.\n",
    "    - 반드시 상단에 **학번이 보이도록** 해야 한다. (이 부분 없으면, 0점)\n",
    "    - putty의 크기를 조절하여 SQL과 답만 보이도록 한다.\n",
    "\n",
    "- SQL 작성시, 문제에 주어지지 않은 상수를 사용하는 경우 (cheating), **마이너스 점수**를 받는다.\n",
    "\n",
    "- self-check:\n",
    "    - 답이 일치하는 경우(tuple의 순서는 중요하지 않음), \"My answer is CORRECT\"라고 적는다.\n",
    "    - 답이 일치하지 않는 경우(tuple의 순서는 중요하지 않음), \"My answer is WRONG\"라고 적는다.\n",
    "    - 충분히 큰 폰트 사이즈를 이용한다.\n"
   ]
  },
  {
   "cell_type": "markdown",
   "metadata": {},
   "source": [
    "# Remove above before you submit your homework"
   ]
  },
  {
   "cell_type": "markdown",
   "metadata": {},
   "source": [
    "# Homework: SQL2\n",
    "\n",
    "```\n",
    "이름:_______________________\n",
    "학번:_______________________\n",
    "제출일:______________________\n",
    "```"
   ]
  },
  {
   "cell_type": "markdown",
   "metadata": {},
   "source": [
    "### 1-13번에 대해 SQL select 문을 작성하고 MySQL에서 실행한 결과물을 제출하시오."
   ]
  },
  {
   "cell_type": "markdown",
   "metadata": {},
   "source": [
    "#### 1. Retrieve the names of employees in department 5 who work more than 10 hours per week on the 'ProductX' project. (single SELECT 사용, MySQL concat 함수 사용, Refer to MySQL manual or  Googling)"
   ]
  },
  {
   "cell_type": "markdown",
   "metadata": {},
   "source": [
    "```\n",
    "+------------------+\n",
    "| Employee name    |\n",
    "+------------------+\n",
    "| John B. Smith    |\n",
    "| Joyce A. English |\n",
    "+------------------+\n",
    "2 rows in set (0.00 sec)\n",
    "```\n",
    "## My answer is CORRECT"
   ]
  },
  {
   "cell_type": "markdown",
   "metadata": {},
   "source": [
    "\n",
    "#### 2.  List the names of employees who have a dependent with the same sex as themselves. (EXISTS 사용)\n"
   ]
  },
  {
   "cell_type": "markdown",
   "metadata": {},
   "source": [
    "```\n",
    "+------------------+\n",
    "| Employee name    |\n",
    "+------------------+\n",
    "| John B. Smith    |\n",
    "| Franklin T. Wong |\n",
    "+------------------+\n",
    "2 rows in set (0.00 sec)\n",
    "```\n",
    "## My answer is CORRECT"
   ]
  },
  {
   "cell_type": "markdown",
   "metadata": {},
   "source": [
    "#### 3.  Find the names of employees that are directly supervised by 'Franklin Wong'. (EXISTS 사용)\n"
   ]
  },
  {
   "cell_type": "markdown",
   "metadata": {},
   "source": [
    "```\n",
    "+-------------------+\n",
    "| Employee name     |\n",
    "+-------------------+\n",
    "| John B. Smith     |\n",
    "| Joyce A. English  |\n",
    "| Ramesh K. Narayan |\n",
    "+-------------------+\n",
    "3 rows in set (0.00 sec)\n",
    "```\n",
    "## My answer is CORRECT"
   ]
  },
  {
   "cell_type": "markdown",
   "metadata": {},
   "source": [
    "#### 4.  For each project, list the project name and the total hours per week (by all employees) spent on that project.\n"
   ]
  },
  {
   "cell_type": "markdown",
   "metadata": {},
   "source": [
    "```\n",
    "+-----------------+-------------+\n",
    "| Project name    | Total hours |\n",
    "+-----------------+-------------+\n",
    "| ProductX        |        52.5 |\n",
    "| ProductY        |        37.5 |\n",
    "| ProductZ        |        50.0 |\n",
    "| Computerization |        55.0 |\n",
    "| Reorganization  |        25.0 |\n",
    "| Newbenefits     |        55.0 |\n",
    "+-----------------+-------------+\n",
    "6 rows in set (0.00 sec)\n",
    "```\n",
    "## My answer is CORRECT"
   ]
  },
  {
   "cell_type": "markdown",
   "metadata": {},
   "source": [
    "#### 5.  Retrieve the names of employees who work on every project managed by 'Administration' department."
   ]
  },
  {
   "cell_type": "markdown",
   "metadata": {},
   "source": [
    "```\n",
    "+------------------+\n",
    "| Employee name    |\n",
    "+------------------+\n",
    "| Ahmad V. Jabbar  |\n",
    "| Alicia J. Zelaya |\n",
    "+------------------+\n",
    "2 rows in set (0.00 sec)\n",
    "```\n",
    "## My answer is CORRECT"
   ]
  },
  {
   "cell_type": "markdown",
   "metadata": {},
   "source": [
    "#### 6.  Retrieve the names of employees who do not work on any project which is located in 'Houston'. (NOT EXISTS 사용)\n"
   ]
  },
  {
   "cell_type": "markdown",
   "metadata": {},
   "source": [
    "```\n",
    "+------------------+\n",
    "| Employee name    |\n",
    "+------------------+\n",
    "| John B. Smith    |\n",
    "| Joyce A. English |\n",
    "| Ahmad V. Jabbar  |\n",
    "| Alicia J. Zelaya |\n",
    "+------------------+\n",
    "4 rows in set (0.01 sec)\n",
    "```\n",
    "## My answer is CORRECT"
   ]
  },
  {
   "cell_type": "markdown",
   "metadata": {},
   "source": [
    "#### 7.  For each department, retrieve the department name, and the average salary of employees working in that department.(소수점 이하 2자리까지만 출력, Refer to MySQL manual or  Googling)"
   ]
  },
  {
   "cell_type": "markdown",
   "metadata": {},
   "source": [
    "```\n",
    "+-----------------+----------------+\n",
    "| Department name | Average salary |\n",
    "+-----------------+----------------+\n",
    "| Headquarters    |       55000.00 |\n",
    "| Administration  |       31000.00 |\n",
    "| Research        |       33250.00 |\n",
    "+-----------------+----------------+\n",
    "3 rows in set (0.00 sec)\n",
    "```\n",
    "## My answer is CORRECT"
   ]
  },
  {
   "cell_type": "markdown",
   "metadata": {},
   "source": [
    "#### 8.  Retrieve the average salary of all female employees. (소수점 이하 2자리까지만 출력, Refer to MySQL manual or  Googling)\n"
   ]
  },
  {
   "cell_type": "markdown",
   "metadata": {},
   "source": [
    "```\n",
    "+----------------+\n",
    "| Average salary |\n",
    "+----------------+\n",
    "|       31000.00 |\n",
    "+----------------+\n",
    "1 row in set (0.00 sec)\n",
    "```\n",
    "## My answer is CORRECT"
   ]
  },
  {
   "cell_type": "markdown",
   "metadata": {},
   "source": [
    "#### 9.  Find the names and addresses of employees who work on at least one project located in Houston but whose department has no location in Houston. (EXISTS, NOT EXISTS 사용)\n"
   ]
  },
  {
   "cell_type": "markdown",
   "metadata": {},
   "source": [
    "```\n",
    "+---------------------+-------------------------+\n",
    "| Employee name       | Address                 |\n",
    "+---------------------+-------------------------+\n",
    "| Jennifer S. Wallace | 291 Berry, Bellaire, TX |\n",
    "+---------------------+-------------------------+\n",
    "1 row in set (0.00 sec)\n",
    "```\n",
    "## My answer is CORRECT"
   ]
  },
  {
   "cell_type": "markdown",
   "metadata": {},
   "source": [
    "#### 10.  List the last names of department managers who have no dependents. (EXISTS, NOT EXISTS 사용)"
   ]
  },
  {
   "cell_type": "markdown",
   "metadata": {},
   "source": [
    "```\n",
    "+-----------+\n",
    "| Last name |\n",
    "+-----------+\n",
    "| Borg      |\n",
    "+-----------+\n",
    "1 row in set (0.00 sec)\n",
    "```\n",
    "## My answer is CORRECT"
   ]
  },
  {
   "cell_type": "markdown",
   "metadata": {},
   "source": [
    "#### 11. Retrieve the names of all employees who work in the department that has the employee with the highest salary among all employees.\n"
   ]
  },
  {
   "cell_type": "markdown",
   "metadata": {},
   "source": [
    "```\n",
    "+---------------------+\n",
    "| Employee name       |\n",
    "+---------------------+\n",
    "| Franklin T. Wong    |\n",
    "| James E. Borg       |\n",
    "| Jennifer S. Wallace |\n",
    "+---------------------+\n",
    "3 rows in set (0.00 sec)\n",
    "```\n",
    "## My answer is CORRECT"
   ]
  },
  {
   "cell_type": "markdown",
   "metadata": {},
   "source": [
    "#### 12-1. Retrieve the names of all employees whose supervisor’s supervisor is James Borg. (EXISTS 안에 EXISTS 사용)"
   ]
  },
  {
   "cell_type": "markdown",
   "metadata": {},
   "source": [
    "```\n",
    "+-------------------+\n",
    "| Employee name     |\n",
    "+-------------------+\n",
    "| John B. Smith     |\n",
    "| Joyce A. English  |\n",
    "| Ramesh K. Narayan |\n",
    "| Ahmad V. Jabbar   |\n",
    "| Alicia J. Zelaya  |\n",
    "+-------------------+\n",
    "5 rows in set (0.00 sec)\n",
    "```\n",
    "## My answer is CORRECT"
   ]
  },
  {
   "cell_type": "markdown",
   "metadata": {},
   "source": [
    "#### 12-2. Retrieve the names of all employees whose supervisor’s supervisor is James Borg. (single SELECT 사용)"
   ]
  },
  {
   "cell_type": "markdown",
   "metadata": {},
   "source": [
    "```\n",
    "+-------------------+\n",
    "| Employee name     |\n",
    "+-------------------+\n",
    "| John B. Smith     |\n",
    "| Joyce A. English  |\n",
    "| Ramesh K. Narayan |\n",
    "| Ahmad V. Jabbar   |\n",
    "| Alicia J. Zelaya  |\n",
    "+-------------------+\n",
    "5 rows in set (0.00 sec)\n",
    "```\n",
    "## My answer is CORRECT"
   ]
  },
  {
   "cell_type": "markdown",
   "metadata": {},
   "source": [
    "#### 13. Retrieve the names of employees who make at least 10,000 dollars more than the employee who is paid the least in the company."
   ]
  },
  {
   "cell_type": "markdown",
   "metadata": {},
   "source": [
    "```\n",
    "+---------------------+\n",
    "| Employee name       |\n",
    "+---------------------+\n",
    "| Franklin T. Wong    |\n",
    "| Ramesh K. Narayan   |\n",
    "| James E. Borg       |\n",
    "| Jennifer S. Wallace |\n",
    "+---------------------+\n",
    "4 rows in set (0.00 sec)\n",
    "```\n",
    "## My answer is CORRECT"
   ]
  },
  {
   "cell_type": "markdown",
   "metadata": {},
   "source": [
    "### 14-17번에 대해 SQL view문을 작성하고 MySQL에서 “select * from <view_name>”을 실행한 결과물을 제출하시오."
   ]
  },
  {
   "cell_type": "markdown",
   "metadata": {},
   "source": [
    "#### 14. A view that has the department name, manager name, and manager salary for every department\n"
   ]
  },
  {
   "cell_type": "markdown",
   "metadata": {},
   "source": [
    "```\n",
    "select * from DEPT_VIEW;\n",
    "+----------------+----------+-------+---------+----------+\n",
    "| dname          | fname    | minit | lname   | salary   |\n",
    "+----------------+----------+-------+---------+----------+\n",
    "| Headquarters   | James    | E     | Borg    | 55000.00 |\n",
    "| Administration | Jennifer | S     | Wallace | 43000.00 |\n",
    "| Research       | Franklin | T     | Wong    | 40000.00 |\n",
    "+----------------+----------+-------+---------+----------+\n",
    "3 rows in set (0.00 sec)\n",
    "```\n",
    "## My answer is CORRECT"
   ]
  },
  {
   "cell_type": "markdown",
   "metadata": {},
   "source": [
    "#### 15. A view that has the employee name, supervisor name, and employee salary for each employee who works in the ‘Research’ department\n"
   ]
  },
  {
   "cell_type": "markdown",
   "metadata": {},
   "source": [
    "```\n",
    "select * from RESEARCH_DEPT_VIEW;\n",
    "+---------+--------+----------+--------+--------+----------+----------+\n",
    "| elname  | eminit | efname   | slname | sminit | sfname   | esalary  |\n",
    "+---------+--------+----------+--------+--------+----------+----------+\n",
    "| Smith   | B      | John     | Wong   | T      | Franklin | 30000.00 |\n",
    "| Wong    | T      | Franklin | Borg   | E      | James    | 40000.00 |\n",
    "| English | A      | Joyce    | Wong   | T      | Franklin | 25000.00 |\n",
    "| Narayan | K      | Ramesh   | Wong   | T      | Franklin | 38000.00 |\n",
    "+---------+--------+----------+--------+--------+----------+----------+\n",
    "4 rows in set (0.00 sec)\n",
    "```\n",
    "## My answer is CORRECT"
   ]
  },
  {
   "cell_type": "markdown",
   "metadata": {},
   "source": [
    "#### 16. A view that has the project name, controlling department name, number of employees, and total hours worked per week on the project for each project\n"
   ]
  },
  {
   "cell_type": "markdown",
   "metadata": {},
   "source": [
    "```\n",
    "select * from PROJECT_VIEW;\n",
    "+-----------------+----------------+----------+-------------+\n",
    "| pname           | dname          | num_emps | total_hours |\n",
    "+-----------------+----------------+----------+-------------+\n",
    "| ProductX        | Research       |        2 |        52.5 |\n",
    "| ProductY        | Research       |        3 |        37.5 |\n",
    "| ProductZ        | Research       |        2 |        50.0 |\n",
    "| Computerization | Administration |        3 |        55.0 |\n",
    "| Reorganization  | Headquarters   |        3 |        25.0 |\n",
    "| Newbenefits     | Administration |        3 |        55.0 |\n",
    "+-----------------+----------------+----------+-------------+\n",
    "6 rows in set (0.00 sec)\n",
    "```\n",
    "## My answer is CORRECT"
   ]
  },
  {
   "cell_type": "markdown",
   "metadata": {},
   "source": [
    "#### 17. A view that has the project name, controlling department name, number of employees, and total hours worked per week on the project for each project with more than two employees working on it"
   ]
  },
  {
   "cell_type": "markdown",
   "metadata": {},
   "source": [
    "```\n",
    "select * from PROJECT_VIEW_GT2;\n",
    "+-----------------+----------------+----------+-------------+\n",
    "| pname           | dname          | num_emps | total_hours |\n",
    "+-----------------+----------------+----------+-------------+\n",
    "| ProductY        | Research       |        3 |        37.5 |\n",
    "| Computerization | Administration |        3 |        55.0 |\n",
    "| Reorganization  | Headquarters   |        3 |        25.0 |\n",
    "| Newbenefits     | Administration |        3 |        55.0 |\n",
    "+-----------------+----------------+----------+-------------+\n",
    "4 rows in set (0.00 sec)\n",
    "```\n",
    "## My answer is CORRECT"
   ]
  },
  {
   "cell_type": "markdown",
   "metadata": {},
   "source": [
    "#### 18. EMPLOYEE 테이블의 salary의 변경사항이 있을 때 마다, 변경사항을 기록하는 테이블 salary_audit(ssn, before_salary, after_salary, u_datetime)을 만들고, update trigger를 사용하여 변경사항을 기록하시오. 5번 부서에 속하는 직원의 salary를 100% 상향 조정 후, “select * from salary_audit”를 통해 결과를 확인하시오. udatetime에는 수정이 실행된 DATETIME(SQL Datatype, 날짜와 시각)을 기록한다. 현재 시각값은 now() 함수를 통해 얻을 수 있다.\n"
   ]
  },
  {
   "cell_type": "markdown",
   "metadata": {},
   "source": [
    "```\n",
    "select * from salary_audit;\n",
    "\n",
    "Empty set (0.01 sec)\n",
    "\n",
    "update EMPLOYEE set salary = 2 * salary where dno = 5;\n",
    "\n",
    "Query OK, 4 rows affected (0.01 sec)\n",
    "Rows matched: 4  Changed: 4  Warnings: 0\n",
    "\n",
    "select * from salary_audit;\n",
    "+-----------+---------------+--------------+---------------------+\n",
    "| ssn       | before_salary | after_salary | u_datatime          |\n",
    "+-----------+---------------+--------------+---------------------+\n",
    "| 123456789 |      30000.00 |     60000.00 | 2018-10-29 22:51:51 |\n",
    "| 333445555 |      40000.00 |     80000.00 | 2018-10-29 22:51:51 |\n",
    "| 453453453 |      25000.00 |     50000.00 | 2018-10-29 22:51:51 |\n",
    "| 666884444 |      38000.00 |     76000.00 | 2018-10-29 22:51:51 |\n",
    "+-----------+---------------+--------------+---------------------+\n",
    "4 rows in set (0.00 sec)\n",
    "```\n",
    "## My answer is CORRECT"
   ]
  }
 ],
 "metadata": {
  "celltoolbar": "Tags",
  "hide_input": false,
  "kernelspec": {
   "display_name": "mysql",
   "language": "mysql",
   "name": "mysql_kernel"
  },
  "language_info": {
   "file_extension": ".sql",
   "mimetype": "text/plain",
   "name": "mysql"
  },
  "toc": {
   "base_numbering": 1,
   "nav_menu": {},
   "number_sections": false,
   "sideBar": true,
   "skip_h1_title": true,
   "title_cell": "Table of Contents",
   "title_sidebar": "Contents",
   "toc_cell": false,
   "toc_position": {},
   "toc_section_display": true,
   "toc_window_display": false
  },
  "varInspector": {
   "cols": {
    "lenName": 16,
    "lenType": 16,
    "lenVar": 40
   },
   "kernels_config": {
    "python": {
     "delete_cmd_postfix": "",
     "delete_cmd_prefix": "del ",
     "library": "var_list.py",
     "varRefreshCmd": "print(var_dic_list())"
    },
    "r": {
     "delete_cmd_postfix": ") ",
     "delete_cmd_prefix": "rm(",
     "library": "var_list.r",
     "varRefreshCmd": "cat(var_dic_list()) "
    }
   },
   "types_to_exclude": [
    "module",
    "function",
    "builtin_function_or_method",
    "instance",
    "_Feature"
   ],
   "window_display": false
  }
 },
 "nbformat": 4,
 "nbformat_minor": 2
}
