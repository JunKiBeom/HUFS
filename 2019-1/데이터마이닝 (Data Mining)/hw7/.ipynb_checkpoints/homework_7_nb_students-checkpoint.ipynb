{
 "cells": [
  {
   "cell_type": "markdown",
   "metadata": {},
   "source": [
    "# Homework 7. Naive Baysian - Spam or Ham"
   ]
  },
  {
   "cell_type": "markdown",
   "metadata": {},
   "source": [
    "***Double Click here to edit this cell***\n",
    "\n",
    "- Name: 전기범\n",
    "- Student ID: 201703091\n",
    "- Submission date: 2019/06/03"
   ]
  },
  {
   "cell_type": "code",
   "execution_count": 1,
   "metadata": {},
   "outputs": [],
   "source": [
    "%matplotlib inline\n",
    "import numpy as np\n",
    "import pandas as pd\n",
    "import re\n",
    "from sklearn.metrics import confusion_matrix, classification_report\n",
    "from collections import Counter"
   ]
  },
  {
   "cell_type": "code",
   "execution_count": 2,
   "metadata": {},
   "outputs": [],
   "source": [
    "messages = pd.read_csv(\"spam_utf8.csv\")"
   ]
  },
  {
   "cell_type": "markdown",
   "metadata": {},
   "source": [
    "### We have 5572 text messages (747 spams or 4825 hams) "
   ]
  },
  {
   "cell_type": "markdown",
   "metadata": {},
   "source": [
    "## Problem 1 (5 pts): Most Common Words\n",
    "\n",
    "- Use the following for word-splitting:\n",
    "```\n",
    "re.findall(\"[a-z0-9']+\", text.lower()) \n",
    "```\n",
    "\n",
    "- Find 20 most common spam words"
   ]
  },
  {
   "cell_type": "code",
   "execution_count": 3,
   "metadata": {},
   "outputs": [
    {
     "data": {
      "text/html": [
       "<div>\n",
       "<style scoped>\n",
       "    .dataframe tbody tr th:only-of-type {\n",
       "        vertical-align: middle;\n",
       "    }\n",
       "\n",
       "    .dataframe tbody tr th {\n",
       "        vertical-align: top;\n",
       "    }\n",
       "\n",
       "    .dataframe thead th {\n",
       "        text-align: right;\n",
       "    }\n",
       "</style>\n",
       "<table border=\"1\" class=\"dataframe\">\n",
       "  <thead>\n",
       "    <tr style=\"text-align: right;\">\n",
       "      <th></th>\n",
       "      <th>category</th>\n",
       "      <th>text</th>\n",
       "    </tr>\n",
       "  </thead>\n",
       "  <tbody>\n",
       "    <tr>\n",
       "      <th>0</th>\n",
       "      <td>ham</td>\n",
       "      <td>Go until jurong point, crazy.. Available only ...</td>\n",
       "    </tr>\n",
       "    <tr>\n",
       "      <th>1</th>\n",
       "      <td>ham</td>\n",
       "      <td>Ok lar... Joking wif u oni...</td>\n",
       "    </tr>\n",
       "    <tr>\n",
       "      <th>2</th>\n",
       "      <td>spam</td>\n",
       "      <td>Free entry in 2 a wkly comp to win FA Cup fina...</td>\n",
       "    </tr>\n",
       "    <tr>\n",
       "      <th>3</th>\n",
       "      <td>ham</td>\n",
       "      <td>U dun say so early hor... U c already then say...</td>\n",
       "    </tr>\n",
       "    <tr>\n",
       "      <th>4</th>\n",
       "      <td>ham</td>\n",
       "      <td>Nah I don't think he goes to usf, he lives aro...</td>\n",
       "    </tr>\n",
       "  </tbody>\n",
       "</table>\n",
       "</div>"
      ],
      "text/plain": [
       "  category                                               text\n",
       "0      ham  Go until jurong point, crazy.. Available only ...\n",
       "1      ham                      Ok lar... Joking wif u oni...\n",
       "2     spam  Free entry in 2 a wkly comp to win FA Cup fina...\n",
       "3      ham  U dun say so early hor... U c already then say...\n",
       "4      ham  Nah I don't think he goes to usf, he lives aro..."
      ]
     },
     "execution_count": 3,
     "metadata": {},
     "output_type": "execute_result"
    }
   ],
   "source": [
    "messages.head()"
   ]
  },
  {
   "cell_type": "code",
   "execution_count": 4,
   "metadata": {},
   "outputs": [
    {
     "name": "stdout",
     "output_type": "stream",
     "text": [
      "[('to', 688), ('a', 378), ('call', 355), ('you', 290), ('your', 264), ('free', 224), ('2', 206), ('the', 206), ('for', 204), ('now', 202), ('or', 188), ('u', 169), ('txt', 163), ('is', 158), ('on', 144), ('ur', 144), ('4', 137), ('have', 135), ('from', 131), ('mobile', 127)]\n"
     ]
    }
   ],
   "source": [
    "spam_text=np.sum(messages.loc[messages['category']=='spam'].text.values+'\\n')\n",
    "# print(spam_text)\n",
    "spam=re.findall(\"[a-z0-9']+\", spam_text.lower())\n",
    "# print(spam)\n",
    "spam_cnt=Counter(spam)\n",
    "\n",
    "print([(key,value) for key,value in sorted(dict(spam_cnt).items(), key =lambda x:x[1], reverse=True)][:20])\n",
    "# YOUR CODE MUST BE HERE"
   ]
  },
  {
   "cell_type": "markdown",
   "metadata": {},
   "source": [
    "**Your output should be like the following:**\n",
    "```\n",
    "[('to', 688), ('a', 378), ('call', 355), ('you', 290), ('your', 264), ('free', 224), ('2', 206), ('the', 206), ('for', 204), ('now', 202), ('or', 188), ('u', 169), ('txt', 163), ('is', 158), ('on', 144), ('ur', 144), ('4', 137), ('have', 135), ('from', 131), ('mobile', 127)]\n",
    "```"
   ]
  },
  {
   "cell_type": "markdown",
   "metadata": {},
   "source": [
    "- Find 20 most common ham words"
   ]
  },
  {
   "cell_type": "code",
   "execution_count": 5,
   "metadata": {},
   "outputs": [
    {
     "name": "stdout",
     "output_type": "stream",
     "text": [
      "[('i', 2281), ('you', 1836), ('to', 1518), ('the', 1100), ('a', 1046), ('u', 980), ('and', 843), ('in', 802), ('me', 758), ('my', 734), ('is', 709), ('it', 602), ('of', 513), ('for', 490), ('that', 486), ('have', 430), ('but', 427), ('so', 422), ('are', 408), ('your', 407)]\n"
     ]
    }
   ],
   "source": [
    "ham_text=\"\\n\".join(str(h) for h in messages.loc[messages['category']=='ham'].text.values)\n",
    "ham=re.findall(\"[a-z0-9']+\", ham_text.lower())\n",
    "ham_cnt=Counter(ham)\n",
    "print([(key,value) for key,value in sorted(dict(ham_cnt).items(), key =lambda x:x[1], reverse=True)][:20])\n",
    "# YOUR CODE MUST BE HERE"
   ]
  },
  {
   "cell_type": "markdown",
   "metadata": {},
   "source": [
    "**Your output should be like the following:**\n",
    "```\n",
    "[('i', 2281), ('you', 1836), ('to', 1518), ('the', 1100), ('a', 1046), ('u', 980), ('and', 843), ('in', 802), ('me', 758), ('my', 734), ('is', 709), ('it', 602), ('of', 513), ('for', 490), ('that', 486), ('have', 430), ('but', 427), ('so', 422), ('are', 408), ('your', 407)]\n",
    "```"
   ]
  },
  {
   "cell_type": "markdown",
   "metadata": {},
   "source": [
    "## Problem 2 (10 pts): My First Simplest Spam Filter\n",
    "\n",
    "I designed a very simple spam classifer:\n",
    "- If the text contains one of the spam words, it is a spam\n",
    "- otherwise, it is a ham\n",
    "\n",
    "Note that:\n",
    "- Use the following for word-splitting:\n",
    "```\n",
    "re.findall(\"[a-z0-9']+\", text.lower()) \n",
    "```\n",
    "\n",
    "**For each spam words:**\n",
    "```\n",
    "['call']\n",
    "['call', 'free']\n",
    "['call', 'free', 'txt']\n",
    "```\n",
    "- **Compute confusion matrix, precision, recall, f1-score using all data as a test dataset**"
   ]
  },
  {
   "cell_type": "code",
   "execution_count": 6,
   "metadata": {},
   "outputs": [],
   "source": [
    "import re\n",
    "texts = [str(text) for text in messages['text']]\n",
    "\n",
    "class MySimplestSpamFilter(object):\n",
    "    \n",
    "    def fit(self, spam_words):\n",
    "        # FILL OUT\n",
    "        self.spam_words = spam_words\n",
    "\n",
    "    def predict(self, texts):\n",
    "        res = []\n",
    "        # FILL OUT\n",
    "        for text in texts:\n",
    "            words = [word for word in re.findall(\"[a-z0-9']+\", text.lower())]\n",
    "            if set(self.spam_words) & set(words):\n",
    "                res.append('spam')\n",
    "            else:\n",
    "                res.append('ham')\n",
    "        return res"
   ]
  },
  {
   "cell_type": "code",
   "execution_count": 7,
   "metadata": {},
   "outputs": [
    {
     "name": "stdout",
     "output_type": "stream",
     "text": [
      "[[ 328  218]\n",
      " [ 419 4607]]\n",
      "              precision    recall  f1-score   support\n",
      "\n",
      "        spam       0.60      0.44      0.51       747\n",
      "         ham       0.92      0.95      0.94      4825\n",
      "\n",
      "   micro avg       0.89      0.89      0.89      5572\n",
      "   macro avg       0.76      0.70      0.72      5572\n",
      "weighted avg       0.87      0.89      0.88      5572\n",
      "\n"
     ]
    }
   ],
   "source": [
    "# RUN THIS CELL\n",
    "model = MySimplestSpamFilter()\n",
    "model.fit(['call'])\n",
    "\n",
    "y_pred = model.predict(texts)\n",
    "y_true = messages['category']\n",
    "\n",
    "print(confusion_matrix(y_true, y_pred, labels=['spam', 'ham']).T)\n",
    "print(classification_report(y_true, y_pred, labels=['spam', 'ham']))"
   ]
  },
  {
   "cell_type": "markdown",
   "metadata": {},
   "source": [
    "**YOUR OUTPUT SHOULD BE:**\n",
    "```\n",
    "[[ 328  218]\n",
    " [ 419 4607]]\n",
    "             precision    recall  f1-score   support\n",
    "\n",
    "       spam       0.60      0.44      0.51       747\n",
    "        ham       0.92      0.95      0.94      4825\n",
    "\n",
    "avg / total       0.87      0.89      0.88      5572\n",
    "```"
   ]
  },
  {
   "cell_type": "code",
   "execution_count": 8,
   "metadata": {},
   "outputs": [
    {
     "name": "stdout",
     "output_type": "stream",
     "text": [
      "[[ 438  265]\n",
      " [ 309 4560]]\n",
      "              precision    recall  f1-score   support\n",
      "\n",
      "        spam       0.62      0.59      0.60       747\n",
      "         ham       0.94      0.95      0.94      4825\n",
      "\n",
      "   micro avg       0.90      0.90      0.90      5572\n",
      "   macro avg       0.78      0.77      0.77      5572\n",
      "weighted avg       0.89      0.90      0.90      5572\n",
      "\n"
     ]
    }
   ],
   "source": [
    "# RUN THIS CELL\n",
    "model = MySimplestSpamFilter()\n",
    "model.fit(['call', 'free'])\n",
    "\n",
    "y_pred = model.predict(texts)\n",
    "y_true = messages['category']\n",
    "\n",
    "print(confusion_matrix(y_true, y_pred, labels=['spam', 'ham']).T)\n",
    "print(classification_report(y_true, y_pred, labels=['spam', 'ham']))"
   ]
  },
  {
   "cell_type": "markdown",
   "metadata": {},
   "source": [
    "**YOUR OUTPUT SHOULD BE:**\n",
    "```\n",
    "[[ 438  265]\n",
    " [ 309 4560]]\n",
    "             precision    recall  f1-score   support\n",
    "\n",
    "       spam       0.62      0.59      0.60       747\n",
    "        ham       0.94      0.95      0.94      4825\n",
    "\n",
    "avg / total       0.89      0.90      0.90      5572\n",
    "```"
   ]
  },
  {
   "cell_type": "code",
   "execution_count": 9,
   "metadata": {},
   "outputs": [
    {
     "name": "stdout",
     "output_type": "stream",
     "text": [
      "[[ 532  277]\n",
      " [ 215 4548]]\n",
      "              precision    recall  f1-score   support\n",
      "\n",
      "        spam       0.66      0.71      0.68       747\n",
      "         ham       0.95      0.94      0.95      4825\n",
      "\n",
      "   micro avg       0.91      0.91      0.91      5572\n",
      "   macro avg       0.81      0.83      0.82      5572\n",
      "weighted avg       0.92      0.91      0.91      5572\n",
      "\n"
     ]
    }
   ],
   "source": [
    "# RUN THIS CELL\n",
    "model = MySimplestSpamFilter()\n",
    "model.fit(['call', 'free', 'txt'])\n",
    "\n",
    "y_pred = model.predict(texts)\n",
    "y_true = messages['category']\n",
    "\n",
    "print(confusion_matrix(y_true, y_pred, labels=['spam', 'ham']).T)\n",
    "print(classification_report(y_true, y_pred, labels=['spam', 'ham']))"
   ]
  },
  {
   "cell_type": "markdown",
   "metadata": {},
   "source": [
    "**YOUR OUTPUT SHOULD BE:**\n",
    "```\n",
    "[[ 532  277]\n",
    " [ 215 4548]]\n",
    "             precision    recall  f1-score   support\n",
    "\n",
    "       spam       0.66      0.71      0.68       747\n",
    "        ham       0.95      0.94      0.95      4825\n",
    "\n",
    "avg / total       0.92      0.91      0.91      5572\n",
    "```"
   ]
  },
  {
   "cell_type": "markdown",
   "metadata": {},
   "source": [
    "## Problem 3 (5 pts): My Another Simplest Spam Filter\n",
    "\n",
    "I designed another very simple spam classifer:\n",
    "- If the text contains **all of the spam words**, it is a spam\n",
    "- otherwise, it is a ham\n",
    "\n",
    "Note that:\n",
    "- Use the following for word-splitting:\n",
    "```\n",
    "re.findall(\"[a-z0-9']+\", text.lower()) \n",
    "```\n",
    "\n",
    "**For this set of spam words:**\n",
    "```\n",
    "['call', 'free', 'txt']\n",
    "```\n",
    "- **Compute confusion marix, precision, recall, f1-score using all data as a test dataset**"
   ]
  },
  {
   "cell_type": "code",
   "execution_count": 10,
   "metadata": {},
   "outputs": [],
   "source": [
    "import re\n",
    "\n",
    "class MyAnotherSimplestSpamFilter(object):\n",
    "    def fit(self, spam_words):\n",
    "        self.spam_words = spam_words\n",
    "\n",
    "    def predict(self, texts):\n",
    "        res = []\n",
    "        for text in texts:\n",
    "            words = [word for word in re.findall(\"[a-z0-9']+\", text.lower())] \n",
    "            if set(self.spam_words) <= set(words):\n",
    "                res.append('spam')\n",
    "            else:\n",
    "                res.append('ham')\n",
    "        return res"
   ]
  },
  {
   "cell_type": "code",
   "execution_count": 11,
   "metadata": {},
   "outputs": [
    {
     "name": "stdout",
     "output_type": "stream",
     "text": [
      "[[   6    0]\n",
      " [ 741 4825]]\n",
      "              precision    recall  f1-score   support\n",
      "\n",
      "        spam       1.00      0.01      0.02       747\n",
      "         ham       0.87      1.00      0.93      4825\n",
      "\n",
      "   micro avg       0.87      0.87      0.87      5572\n",
      "   macro avg       0.93      0.50      0.47      5572\n",
      "weighted avg       0.88      0.87      0.81      5572\n",
      "\n"
     ]
    }
   ],
   "source": [
    "# RUN THIS CELL\n",
    "model = MyAnotherSimplestSpamFilter()\n",
    "model.fit(['call', 'free', 'txt'])\n",
    "\n",
    "y_pred = model.predict(texts)\n",
    "y_true = messages['category']\n",
    "\n",
    "print(confusion_matrix(y_true, y_pred, labels=['spam', 'ham']).T)\n",
    "print(classification_report(y_true, y_pred, labels=['spam', 'ham']))"
   ]
  },
  {
   "cell_type": "markdown",
   "metadata": {},
   "source": [
    "**YOUR OUTPUT SHOULD BE:**\n",
    "```\n",
    "[[   6    0]\n",
    " [ 741 4825]]\n",
    "             precision    recall  f1-score   support\n",
    "\n",
    "       spam       1.00      0.01      0.02       747\n",
    "        ham       0.87      1.00      0.93      4825\n",
    "\n",
    "avg / total       0.88      0.87      0.81      5572\n",
    "```"
   ]
  },
  {
   "cell_type": "markdown",
   "metadata": {},
   "source": [
    "## Problem 4. Discussion (5 pts)\n",
    "\n",
    "- From the Problem 2, 3 experiments, discuss about precision and recall trade-off.\n",
    "- WRITE HERE (To edit, double click this cell)\n",
    "\n",
    "recall은 내가 모델로부터 얻은 결과중에 얼마나 정답이 포함되었는가 여부이고, precision은 모델에서 얻은 결과중에 얼마나 정답일 가능성이 높은가이다.\n",
    "두 가지 용어는 서로 trade off 관계이다. \n",
    "\n",
    "단어의 수가 증가함에 따라 Spam 판정의 확률이 높아지는것을 보아 Spam Filter를 위해 단어의 수를 증가시키면 더 정확도가 높은 필터링이 되는것을 확인 할 수 있었습니다\n"
   ]
  },
  {
   "cell_type": "markdown",
   "metadata": {},
   "source": [
    "## Problem 5. SMS Spam Filter (20 pts)\n",
    "\n",
    "- Using sklearn modules, implement your SMS spam filter\n",
    "- Print confusion matrix, classification report, **f0.5 score**\n",
    "- This homework will be graded based on **f0.5 score**"
   ]
  },
  {
   "cell_type": "code",
   "execution_count": 12,
   "metadata": {},
   "outputs": [],
   "source": [
    "# DO NO EDIT THIS CELL\n",
    "import numpy as np\n",
    "\n",
    "np.random.seed(0)"
   ]
  },
  {
   "cell_type": "code",
   "execution_count": 13,
   "metadata": {},
   "outputs": [
    {
     "name": "stdout",
     "output_type": "stream",
     "text": [
      "[[ 183    8]\n",
      " [  41 1440]]\n",
      "              precision    recall  f1-score   support\n",
      "\n",
      "           1       0.96      0.82      0.88       224\n",
      "           0       0.97      0.99      0.98      1448\n",
      "\n",
      "   micro avg       0.97      0.97      0.97      1672\n",
      "   macro avg       0.97      0.91      0.93      1672\n",
      "weighted avg       0.97      0.97      0.97      1672\n",
      "\n",
      "f_0.5 score is  92.61%\n"
     ]
    }
   ],
   "source": [
    "# YOU CODE MUST BE HERE\n",
    "\n",
    "# import whatever module as you need\n",
    "from sklearn.naive_bayes import BernoulliNB\n",
    "from sklearn.metrics import fbeta_score\n",
    "from sklearn.model_selection import train_test_split\n",
    "from sklearn.feature_extraction.text import CountVectorizer\n",
    "\n",
    "# You must have 30% stratified sample from dataset for test dataset like the following:\n",
    "\n",
    "vectorizer = CountVectorizer(stop_words = \"english\", lowercase=True, binary=False)  # default actually\n",
    "vecs = vectorizer.fit_transform(texts)  # it is a sparse matrix representation\n",
    "\n",
    "targets = messages[\"category\"].apply(lambda c: 1 if c == 'spam' else 0)\n",
    "\n",
    "X_train, X_test, y_train, y_test = train_test_split(vecs, targets, stratify = targets, test_size = 0.3)\n",
    "\n",
    "bernoulli_NB = BernoulliNB()\n",
    "bernoulli_NB.fit(X_train, y_train)\n",
    "\n",
    "y_pred = bernoulli_NB.predict(X_test)   # default binarize=0.0\n",
    "\n",
    "print(confusion_matrix(y_test, y_pred, labels=[1, 0]).T)\n",
    "print(classification_report(y_test, y_pred, labels=[1, 0]))\n",
    "beta = 0.5\n",
    "print('f_{} score is {:6.2f}%'.format(beta, fbeta_score(y_test, y_pred, beta = beta)*100))"
   ]
  },
  {
   "cell_type": "markdown",
   "metadata": {},
   "source": [
    "## Problem 6. MyBernoulliNaiveBayesClassifier (40 pts)\n",
    "\n",
    "- Implement your own Bernoulli Naive Bayes Classifier"
   ]
  },
  {
   "cell_type": "code",
   "execution_count": null,
   "metadata": {},
   "outputs": [],
   "source": [
    "class MyBernoulliNaiveBayesClassifier(object):\n",
    "    def fit(self, X, Y, smoothing=1):\n",
    "    # FILL OUT\n",
    "        \n",
    "    def predict(self, X):\n",
    "        res = []\n",
    "    # FILL OUT\n",
    "        return res"
   ]
  },
  {
   "cell_type": "code",
   "execution_count": null,
   "metadata": {},
   "outputs": [],
   "source": [
    "# RUN THIS CELL\n",
    "\n",
    "import numpy as np\n",
    "np.random.seed(0)\n",
    "X = np.random.randint(2, size=(6, 100))\n",
    "y = np.array([1, 2, 3, 3, 1, 0])\n",
    "my_nbc = MyBernoulliNaiveBayesClassifier()\n",
    "my_nbc.fit(X, y)\n",
    "\n",
    "y_pred = my_nbc.predict(X)\n",
    "\n",
    "print(confusion_matrix(y, y_pred).T)\n",
    "print(classification_report(y, y_pred))"
   ]
  },
  {
   "cell_type": "markdown",
   "metadata": {},
   "source": [
    "**YOUR OUTPUT MUST BE LIKE THE FOLLOWING:**\n",
    "```\n",
    "[[1 0 0 0]\n",
    " [0 2 0 0]\n",
    " [0 0 1 0]\n",
    " [0 0 0 2]]\n",
    "             precision    recall  f1-score   support\n",
    "\n",
    "          0       1.00      1.00      1.00         1\n",
    "          1       1.00      1.00      1.00         2\n",
    "          2       1.00      1.00      1.00         1\n",
    "          3       1.00      1.00      1.00         2\n",
    "\n",
    "avg / total       1.00      1.00      1.00         6\n",
    "```"
   ]
  },
  {
   "cell_type": "markdown",
   "metadata": {},
   "source": [
    "## Ethics:\n",
    "If you cheat, you will get negatgive of the total points.\n",
    "If the homework total is 22 and you cheat, you get -22."
   ]
  },
  {
   "cell_type": "markdown",
   "metadata": {},
   "source": [
    "## What to submit\n",
    "- Run all cells\n",
    "- Goto \"File -> Print Preview\"\n",
    "- Print the page\n",
    "- Submit in class\n",
    "- No late homeworks accepted\n",
    "- Your homework will be graded on the basis of correctness and programming skills"
   ]
  },
  {
   "cell_type": "markdown",
   "metadata": {},
   "source": [
    "## Deadline: 6/3"
   ]
  }
 ],
 "metadata": {
  "celltoolbar": "Slideshow",
  "hide_input": false,
  "kernelspec": {
   "display_name": "Python 3",
   "language": "python",
   "name": "python3"
  },
  "language_info": {
   "codemirror_mode": {
    "name": "ipython",
    "version": 3
   },
   "file_extension": ".py",
   "mimetype": "text/x-python",
   "name": "python",
   "nbconvert_exporter": "python",
   "pygments_lexer": "ipython3",
   "version": "3.7.1"
  }
 },
 "nbformat": 4,
 "nbformat_minor": 2
}
