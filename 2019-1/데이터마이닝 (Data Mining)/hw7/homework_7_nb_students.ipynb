{
 "cells": [
  {
   "cell_type": "markdown",
   "metadata": {},
   "source": [
    "# Homework 7. Naive Baysian - Spam or Ham"
   ]
  },
  {
   "cell_type": "markdown",
   "metadata": {},
   "source": [
    "***Double Click here to edit this cell***\n",
    "\n",
    "- Name: \n",
    "- Student ID: \n",
    "- Submission date: "
   ]
  },
  {
   "cell_type": "code",
   "execution_count": null,
   "metadata": {},
   "outputs": [],
   "source": [
    "%matplotlib inline\n",
    "import numpy as np\n",
    "import pandas as pd\n",
    "import re\n",
    "from sklearn.metrics import confusion_matrix, classification_report"
   ]
  },
  {
   "cell_type": "code",
   "execution_count": null,
   "metadata": {},
   "outputs": [],
   "source": [
    "messages = pd.read_csv(\"spam_utf8.csv\")"
   ]
  },
  {
   "cell_type": "markdown",
   "metadata": {},
   "source": [
    "### We have 5572 text messages (747 spams or 4825 hams) "
   ]
  },
  {
   "cell_type": "markdown",
   "metadata": {},
   "source": [
    "## Problem 1 (5 pts): Most Common Words\n",
    "\n",
    "- Use the following for word-splitting:\n",
    "```\n",
    "re.findall(\"[a-z0-9']+\", text.lower()) \n",
    "```\n",
    "\n",
    "- Find 20 most common spam words"
   ]
  },
  {
   "cell_type": "code",
   "execution_count": null,
   "metadata": {},
   "outputs": [],
   "source": [
    "# YOUR CODE MUST BE HERE"
   ]
  },
  {
   "cell_type": "markdown",
   "metadata": {},
   "source": [
    "**Your output should be like the following:**\n",
    "```\n",
    "[('to', 688), ('a', 376), ('call', 345), ('your', 256), ('you', 248), ('the', 205), ('2', 204), ('now', 198), ('for', 198), ('free', 196), ('or', 188), ('txt', 160), ('is', 158), ('u', 154), ('on', 143), ('4', 137), ('have', 135), ('ur', 134), ('from', 129), ('mobile', 126)]\n",
    "```"
   ]
  },
  {
   "cell_type": "markdown",
   "metadata": {},
   "source": [
    "- Find 20 most common ham words"
   ]
  },
  {
   "cell_type": "code",
   "execution_count": null,
   "metadata": {},
   "outputs": [],
   "source": [
    "# YOUR CODE MUST BE HERE"
   ]
  },
  {
   "cell_type": "markdown",
   "metadata": {},
   "source": [
    "**Your output should be like the following:**\n",
    "```\n",
    "[('i', 2116), ('you', 1783), ('to', 1514), ('the', 1087), ('a', 1040), ('u', 956), ('and', 834), ('in', 794), ('me', 733), ('my', 708), ('is', 692), ('it', 585), ('of', 513), ('for', 489), ('that', 467), ('have', 421), ('but', 414), ('so', 402), ('your', 402), ('are', 393)]\n",
    "```"
   ]
  },
  {
   "cell_type": "markdown",
   "metadata": {},
   "source": [
    "## Problem 2 (10 pts): My First Simplest Spam Filter\n",
    "\n",
    "I designed a very simple spam classifer:\n",
    "- If the text contains one of the spam words, it is a spam\n",
    "- otherwise, it is a ham\n",
    "\n",
    "Note that:\n",
    "- Use the following for word-splitting:\n",
    "```\n",
    "re.findall(\"[a-z0-9']+\", text.lower()) \n",
    "```\n",
    "\n",
    "**For each spam words:**\n",
    "```\n",
    "['call']\n",
    "['call', 'free']\n",
    "['call', 'free', 'txt']\n",
    "```\n",
    "- **Compute confusion matrix, precision, recall, f1-score using all data as a test dataset**"
   ]
  },
  {
   "cell_type": "code",
   "execution_count": null,
   "metadata": {},
   "outputs": [],
   "source": [
    "import re\n",
    "\n",
    "class MySimplestSpamFilter(object):\n",
    "    def fit(self, spam_words):\n",
    "        # FILL OUT\n",
    "\n",
    "    def predict(self, texts):\n",
    "        res = []\n",
    "        # FILL OUT\n",
    "        return res"
   ]
  },
  {
   "cell_type": "code",
   "execution_count": null,
   "metadata": {},
   "outputs": [],
   "source": [
    "# RUN THIS CELL\n",
    "model = MySimplestSpamFilter()\n",
    "model.fit(['call'])\n",
    "\n",
    "y_pred = model.predict(texts)\n",
    "y_true = messages['category']\n",
    "\n",
    "print(confusion_matrix(y_true, y_pred, labels=['spam', 'ham']).T)\n",
    "print(classification_report(y_true, y_pred, labels=['spam', 'ham']))"
   ]
  },
  {
   "cell_type": "markdown",
   "metadata": {},
   "source": [
    "**YOUR OUTPUT SHOULD BE:**\n",
    "```\n",
    "[[ 328  218]\n",
    " [ 419 4607]]\n",
    "             precision    recall  f1-score   support\n",
    "\n",
    "       spam       0.60      0.44      0.51       747\n",
    "        ham       0.92      0.95      0.94      4825\n",
    "\n",
    "avg / total       0.87      0.89      0.88      5572\n",
    "```"
   ]
  },
  {
   "cell_type": "code",
   "execution_count": null,
   "metadata": {},
   "outputs": [],
   "source": [
    "# RUN THIS CELL\n",
    "model = MySimplestSpamFilter()\n",
    "model.fit(['call', 'free'])\n",
    "\n",
    "y_pred = model.predict(texts)\n",
    "y_true = messages['category']\n",
    "\n",
    "print(confusion_matrix(y_true, y_pred, labels=['spam', 'ham']).T)\n",
    "print(classification_report(y_true, y_pred, labels=['spam', 'ham']))"
   ]
  },
  {
   "cell_type": "markdown",
   "metadata": {},
   "source": [
    "**YOUR OUTPUT SHOULD BE:**\n",
    "```\n",
    "[[ 438  265]\n",
    " [ 309 4560]]\n",
    "             precision    recall  f1-score   support\n",
    "\n",
    "       spam       0.62      0.59      0.60       747\n",
    "        ham       0.94      0.95      0.94      4825\n",
    "\n",
    "avg / total       0.89      0.90      0.90      5572\n",
    "```"
   ]
  },
  {
   "cell_type": "code",
   "execution_count": null,
   "metadata": {},
   "outputs": [],
   "source": [
    "# RUN THIS CELL\n",
    "model = MySimplestSpamFilter()\n",
    "model.fit(['call', 'free', 'txt'])\n",
    "\n",
    "y_pred = model.predict(texts)\n",
    "y_true = messages['category']\n",
    "\n",
    "print(confusion_matrix(y_true, y_pred, labels=['spam', 'ham']).T)\n",
    "print(classification_report(y_true, y_pred, labels=['spam', 'ham']))"
   ]
  },
  {
   "cell_type": "markdown",
   "metadata": {},
   "source": [
    "**YOUR OUTPUT SHOULD BE:**\n",
    "```\n",
    "[[ 532  277]\n",
    " [ 215 4548]]\n",
    "             precision    recall  f1-score   support\n",
    "\n",
    "       spam       0.66      0.71      0.68       747\n",
    "        ham       0.95      0.94      0.95      4825\n",
    "\n",
    "avg / total       0.92      0.91      0.91      5572\n",
    "```"
   ]
  },
  {
   "cell_type": "markdown",
   "metadata": {},
   "source": [
    "## Problem 3 (5 pts): My Another Simplest Spam Filter\n",
    "\n",
    "I designed another very simple spam classifer:\n",
    "- If the text contains **all of the spam words**, it is a spam\n",
    "- otherwise, it is a ham\n",
    "\n",
    "Note that:\n",
    "- Use the following for word-splitting:\n",
    "```\n",
    "re.findall(\"[a-z0-9']+\", text.lower()) \n",
    "```\n",
    "\n",
    "**For this set of spam words:**\n",
    "```\n",
    "['call', 'free', 'txt']\n",
    "```\n",
    "- **Compute confusion marix, precision, recall, f1-score using all data as a test dataset**"
   ]
  },
  {
   "cell_type": "code",
   "execution_count": null,
   "metadata": {},
   "outputs": [],
   "source": [
    "import re\n",
    "\n",
    "class MyAnotherSimplestSpamFilter(object):\n",
    "    def fit(self, spam_words):\n",
    "        self.spam_words = spam_words\n",
    "\n",
    "    def predict(self, texts):\n",
    "        res = []\n",
    "        for text in texts:\n",
    "            words = [word for word in re.findall(\"[a-z0-9']+\", text.lower())] \n",
    "            if set(self.spam_words) <= set(words):\n",
    "                res.append('spam')\n",
    "            else:\n",
    "                res.append('ham')\n",
    "        return res"
   ]
  },
  {
   "cell_type": "code",
   "execution_count": null,
   "metadata": {},
   "outputs": [],
   "source": [
    "# RUN THIS CELL\n",
    "model = MyAnotherSimplestSpamFilter()\n",
    "model.fit(['call', 'free', 'txt'])\n",
    "\n",
    "y_pred = model.predict(texts)\n",
    "y_true = messages['category']\n",
    "\n",
    "print(confusion_matrix(y_true, y_pred, labels=['spam', 'ham']).T)\n",
    "print(classification_report(y_true, y_pred, labels=['spam', 'ham']))"
   ]
  },
  {
   "cell_type": "markdown",
   "metadata": {},
   "source": [
    "**YOUR OUTPUT SHOULD BE:**\n",
    "```\n",
    "[[   6    0]\n",
    " [ 741 4825]]\n",
    "             precision    recall  f1-score   support\n",
    "\n",
    "       spam       1.00      0.01      0.02       747\n",
    "        ham       0.87      1.00      0.93      4825\n",
    "\n",
    "avg / total       0.88      0.87      0.81      5572\n",
    "```"
   ]
  },
  {
   "cell_type": "markdown",
   "metadata": {},
   "source": [
    "## Problem 4. Discussion (5 pts)\n",
    "\n",
    "- From the Problem 2, 3 experiments, discuss about precision and recall trade-off.\n",
    "- WRITE HERE (To edit, double click this cell)\n"
   ]
  },
  {
   "cell_type": "markdown",
   "metadata": {},
   "source": [
    "## Problem 5. SMS Spam Filter (20 pts)\n",
    "\n",
    "- Using sklearn modules, implement your SMS spam filter\n",
    "- Print confusion matrix, classification report, **f0.5 score**\n",
    "- This homework will be graded based on **f0.5 score**"
   ]
  },
  {
   "cell_type": "code",
   "execution_count": null,
   "metadata": {},
   "outputs": [],
   "source": [
    "# DO NO EDIT THIS CELL\n",
    "import numpy as np\n",
    "\n",
    "np.random.seed(0)"
   ]
  },
  {
   "cell_type": "code",
   "execution_count": null,
   "metadata": {},
   "outputs": [],
   "source": [
    "# YOU CODE MUST BE HERE\n",
    "\n",
    "# import whatever module as you need\n",
    "\n",
    "# You must have 30% stratified sample from dataset for test dataset like the following:\n",
    "# X_train, X_test, y_train, y_test = train_test_split(vecs, targets, stratify = targets, test_size = 0.3)\n",
    "\n",
    "\n",
    "print(confusion_matrix(y_test, y_pred, labels=[1, 0]).T)\n",
    "print(classification_report(y_test, y_pred, labels=[1, 0]))\n",
    "beta = 0.5\n",
    "print('f_{} score is {:6.2f}%'.format(beta, fbeta_score(y_test, y_pred, beta = beta)*100))"
   ]
  },
  {
   "cell_type": "markdown",
   "metadata": {},
   "source": [
    "## Problem 6. MyBernoulliNaiveBayesClassifier (40 pts)\n",
    "\n",
    "- Implement your own Bernoulli Naive Bayes Classifier"
   ]
  },
  {
   "cell_type": "code",
   "execution_count": null,
   "metadata": {},
   "outputs": [],
   "source": [
    "class MyBernoulliNaiveBayesClassifier(object):\n",
    "    def fit(self, X, Y, smoothing=1):\n",
    "    # FILL OUT\n",
    "        \n",
    "    def predict(self, X):\n",
    "        res = []\n",
    "    # FILL OUT\n",
    "        return res"
   ]
  },
  {
   "cell_type": "code",
   "execution_count": null,
   "metadata": {},
   "outputs": [],
   "source": [
    "# RUN THIS CELL\n",
    "\n",
    "import numpy as np\n",
    "np.random.seed(0)\n",
    "X = np.random.randint(2, size=(6, 100))\n",
    "y = np.array([1, 2, 3, 3, 1, 0])\n",
    "my_nbc = MyBernoulliNaiveBayesClassifier()\n",
    "my_nbc.fit(X, y)\n",
    "\n",
    "y_pred = my_nbc.predict(X)\n",
    "\n",
    "print(confusion_matrix(y, y_pred).T)\n",
    "print(classification_report(y, y_pred))"
   ]
  },
  {
   "cell_type": "markdown",
   "metadata": {},
   "source": [
    "**YOUR OUTPUT MUST BE LIKE THE FOLLOWING:**\n",
    "```\n",
    "[[1 0 0 0]\n",
    " [0 2 0 0]\n",
    " [0 0 1 0]\n",
    " [0 0 0 2]]\n",
    "             precision    recall  f1-score   support\n",
    "\n",
    "          0       1.00      1.00      1.00         1\n",
    "          1       1.00      1.00      1.00         2\n",
    "          2       1.00      1.00      1.00         1\n",
    "          3       1.00      1.00      1.00         2\n",
    "\n",
    "avg / total       1.00      1.00      1.00         6\n",
    "```"
   ]
  },
  {
   "cell_type": "markdown",
   "metadata": {},
   "source": [
    "## Ethics:\n",
    "If you cheat, you will get negatgive of the total points.\n",
    "If the homework total is 22 and you cheat, you get -22."
   ]
  },
  {
   "cell_type": "markdown",
   "metadata": {},
   "source": [
    "## What to submit\n",
    "- Run all cells\n",
    "- Goto \"File -> Print Preview\"\n",
    "- Print the page\n",
    "- Submit in class\n",
    "- No late homeworks accepted\n",
    "- Your homework will be graded on the basis of correctness and programming skills"
   ]
  },
  {
   "cell_type": "markdown",
   "metadata": {},
   "source": [
    "## Deadline: 6/3"
   ]
  }
 ],
 "metadata": {
  "celltoolbar": "Slideshow",
  "hide_input": false,
  "kernelspec": {
   "display_name": "Python 3",
   "language": "python",
   "name": "python3"
  },
  "language_info": {
   "codemirror_mode": {
    "name": "ipython",
    "version": 3
   },
   "file_extension": ".py",
   "mimetype": "text/x-python",
   "name": "python",
   "nbconvert_exporter": "python",
   "pygments_lexer": "ipython3",
   "version": "3.6.3"
  }
 },
 "nbformat": 4,
 "nbformat_minor": 2
}
