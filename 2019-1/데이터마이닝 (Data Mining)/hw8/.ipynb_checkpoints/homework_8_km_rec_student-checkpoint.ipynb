{
 "cells": [
  {
   "cell_type": "markdown",
   "metadata": {},
   "source": [
    "# Homework 8. K-means and Recommendation system"
   ]
  },
  {
   "cell_type": "markdown",
   "metadata": {},
   "source": [
    "***Double Click here to edit this cell***\n",
    "\n",
    "- Name: 전기범\n",
    "- Student ID: 201703091\n",
    "- Submission date: 2019/06/25"
   ]
  },
  {
   "cell_type": "markdown",
   "metadata": {},
   "source": [
    "## Problem 1 (10 pts): K-means\n",
    "\n",
    "- We want to cluster data in sample_data_1.csv\n",
    "- Estimate the best k for sample_data_1.csv\n",
    "- You must show the process to find the best k\n",
    "- use `sklearn.cluster.KMeans`"
   ]
  },
  {
   "cell_type": "code",
   "execution_count": 2,
   "metadata": {
    "slideshow": {
     "slide_type": "-"
    }
   },
   "outputs": [
    {
     "name": "stdout",
     "output_type": "stream",
     "text": [
      "k: 1  cost: 680.8244\n",
      "k: 2  cost: 152.36870647733906\n",
      "k: 3  cost: 78.94084142614602\n",
      "k: 4  cost: 57.345409315718165\n",
      "k: 5  cost: 46.53558205128205\n",
      "k: 6  cost: 38.95701115711985\n",
      "k: 7  cost: 34.32652991452992\n",
      "k: 8  cost: 30.227724598930486\n",
      "k: 9  cost: 27.766706937799047\n",
      "k: 10  cost: 26.07225182334006\n"
     ]
    },
    {
     "data": {
      "image/png": "[encoded data removed]",
      "text/plain": [
       "<Figure size 432x288 with 1 Axes>"
      ]
     },
     "metadata": {
      "needs_background": "light"
     },
     "output_type": "display_data"
    }
   ],
   "source": [
    "# # YOUR CODE HERE. You may use as many code cells as you want.\n",
    "\n",
    "from sklearn.cluster import KMeans\n",
    "import numpy as np\n",
    "import pandas as pd\n",
    "import matplotlib.pyplot  as plt\n",
    "import csv\n",
    "from sklearn import preprocessing\n",
    "\n",
    "with open('sample_data_1.csv', 'r') as rf:\n",
    "    reader = csv.reader(rf)\n",
    "    X2 = np.array(list(reader))\n",
    "\n",
    "iris_df=pd.DataFrame(X2,columns=['Sepal_Length','Sepal_Width',\n",
    "                            'Petal_Length','Petal Width'])\n",
    "\n",
    "plist=[]\n",
    "for k in range (1, 11):\n",
    "    kmeans_model = KMeans(n_clusters=k, random_state=1).fit(iris_df.iloc[:, :])\n",
    "    labels = kmeans_model.labels_\n",
    "    interia = kmeans_model.inertia_\n",
    "    print(\"k:\",k, \" cost:\", interia)\n",
    "    plist.append(interia)\n",
    "    \n",
    "plt.plot(range(1,11), plist, marker='o', linestyle='solid')\n",
    "plt.show()"
   ]
  },
  {
   "cell_type": "markdown",
   "metadata": {},
   "source": [
    "### Your conclusion:\n",
    "```\n",
    "To edit, double-click here\n",
    "k의 값이 안정적으로 되는 3이 최적의 k의 값이라고 볼 수 있다.\n",
    "\n",
    "```"
   ]
  },
  {
   "cell_type": "markdown",
   "metadata": {},
   "source": [
    "## Problem 2 (40 pts): K-means implementation\n",
    "\n",
    "- Make your own implementaion of K-means algorithm\n",
    "- If the sum of distances between previous centroids and current centroids is less than or equal to `EPSILON`, K-means stops.\n",
    "- If K-means algorithm reaches the maximum number of iterations `max_iter`, it stops.\n",
    "- In `fit` method, you must run k-means in `n_init` times with different centroid seeds. Then choose the best.\n",
    "- `fit` method computes centroids and labels and stores them in `self.cluster_centers_` and `self.labels_`\n",
    "- `predict` method returns the centroids closest to each point in `X`\n",
    "- `score` method returns **the negative of** the sum of sqaured distances between each point in `X` and the centroid closest to the point."
   ]
  },
  {
   "cell_type": "code",
   "execution_count": 3,
   "metadata": {},
   "outputs": [],
   "source": [
    "import numpy as np\n",
    "\n",
    "class MyKMeans:\n",
    "    \"\"\"performs k-means clustering using numpy\"\"\"\n",
    "\n",
    "    def __init__(self, n_clusters=8, n_init=10, EPSILON=1e-4, max_iter=300, random_state=0):\n",
    "        self.n_clusters = n_clusters        # number of clusters\n",
    "        self.n_init = n_init                # number of time the k-means algorithm will be run with different centroid seeds.\n",
    "        self.EPSILON = EPSILON              # EPSILON; stop if the sum of centroid movements <= EPSILON\n",
    "        self.max_iter = max_iter            # maximum number of iterations\n",
    "        self.random_state = random_state    # random number seed\n",
    "        self.cluster_centers_ = None        # means of clusters\n",
    "        self.labels_ = None                 # X's assignments to clusters\n",
    "\n",
    "        \n",
    "    def fit(self, X):\n",
    "        X = X.astype(float)\n",
    "        # FILL OUT\n",
    "        \n",
    "        return self\n",
    "        \n",
    "        \n",
    "    def predict(self, X):\n",
    "        X = X.astype(float)\n",
    "        # FILL OUT\n",
    "    \n",
    "    \n",
    "    def score(self, X):\n",
    "        X = X.astype(float)\n",
    "        # FILL OUT"
   ]
  },
  {
   "cell_type": "markdown",
   "metadata": {},
   "source": [
    "### Run the following code:"
   ]
  },
  {
   "cell_type": "code",
   "execution_count": 4,
   "metadata": {},
   "outputs": [
    {
     "name": "stdout",
     "output_type": "stream",
     "text": [
      "[[10.  2.]\n",
      " [ 1.  2.]]\n",
      "[1 1 1 0 0 0]\n",
      "-16.0\n"
     ]
    }
   ],
   "source": [
    "# DO NOT EDIT\n",
    "import numpy as np\n",
    "X = np.array([[1, 2], [1, 4], [1, 0],\n",
    "              [10, 2], [10, 4], [10, 0]])\n",
    "\n",
    "kmeans = KMeans(n_clusters=2).fit(X)\n",
    "print(kmeans.cluster_centers_)\n",
    "print(kmeans.labels_)\n",
    "print(kmeans.score(X))"
   ]
  },
  {
   "cell_type": "markdown",
   "metadata": {},
   "source": [
    "### Your output must be the following:\n",
    "```\n",
    "[[10.  2.]\n",
    " [ 1.  2.]]\n",
    "[1 1 1 0 0 0]\n",
    "-16.0\n",
    "```"
   ]
  },
  {
   "cell_type": "markdown",
   "metadata": {},
   "source": [
    "### Run the following code:"
   ]
  },
  {
   "cell_type": "code",
   "execution_count": 7,
   "metadata": {},
   "outputs": [
    {
     "ename": "TypeError",
     "evalue": "bad operand type for unary -: 'NoneType'",
     "output_type": "error",
     "traceback": [
      "\u001b[0;31m---------------------------------------------------------------------------\u001b[0m",
      "\u001b[0;31mTypeError\u001b[0m                                 Traceback (most recent call last)",
      "\u001b[0;32m<timed exec>\u001b[0m in \u001b[0;36m<module>\u001b[0;34m\u001b[0m\n",
      "\u001b[0;32m<timed exec>\u001b[0m in \u001b[0;36m<listcomp>\u001b[0;34m(.0)\u001b[0m\n",
      "\u001b[0;31mTypeError\u001b[0m: bad operand type for unary -: 'NoneType'"
     ]
    }
   ],
   "source": [
    "# DO NOT EDIT\n",
    "%matplotlib inline\n",
    "\n",
    "from sklearn.cluster import KMeans\n",
    "import numpy as np\n",
    "import matplotlib.pyplot as plt\n",
    "import csv\n",
    "\n",
    "with open('sample_data_2.csv', 'r') as rf:\n",
    "    reader = csv.reader(rf)\n",
    "    X2 = np.array(list(reader))\n",
    "\n",
    "ks3 = range(1, 21)\n",
    "%time errors3 = [-MyKMeans(n_clusters=k, n_init=10).fit(X2).score(X2) for k in ks3]"
   ]
  },
  {
   "cell_type": "markdown",
   "metadata": {},
   "source": [
    "윈도우 시스템 with open('sample_data_2.csv', 'rb') as rf:"
   ]
  },
  {
   "cell_type": "markdown",
   "metadata": {},
   "source": [
    "### Your code will be graded based on the correctness and the performance\n",
    "### My implementation result:\n",
    "```\n",
    "CPU times: user 4.18 s, sys: 3.92 ms, total: 4.18 s\n",
    "Wall time: 4.2 s\n",
    "```"
   ]
  },
  {
   "cell_type": "code",
   "execution_count": 8,
   "metadata": {},
   "outputs": [
    {
     "ename": "NameError",
     "evalue": "name 'errors3' is not defined",
     "output_type": "error",
     "traceback": [
      "\u001b[0;31m---------------------------------------------------------------------------\u001b[0m",
      "\u001b[0;31mNameError\u001b[0m                                 Traceback (most recent call last)",
      "\u001b[0;32m<ipython-input-8-83797a49859c>\u001b[0m in \u001b[0;36m<module>\u001b[0;34m\u001b[0m\n\u001b[1;32m      1\u001b[0m \u001b[0;31m# DO NOT EDIT\u001b[0m\u001b[0;34m\u001b[0m\u001b[0;34m\u001b[0m\u001b[0;34m\u001b[0m\u001b[0m\n\u001b[1;32m      2\u001b[0m \u001b[0mplt\u001b[0m\u001b[0;34m.\u001b[0m\u001b[0mfigure\u001b[0m\u001b[0;34m(\u001b[0m\u001b[0mfigsize\u001b[0m\u001b[0;34m=\u001b[0m\u001b[0;34m(\u001b[0m\u001b[0;36m20\u001b[0m\u001b[0;34m,\u001b[0m\u001b[0;36m20\u001b[0m\u001b[0;34m)\u001b[0m\u001b[0;34m)\u001b[0m\u001b[0;34m\u001b[0m\u001b[0;34m\u001b[0m\u001b[0m\n\u001b[0;32m----> 3\u001b[0;31m \u001b[0mplt\u001b[0m\u001b[0;34m.\u001b[0m\u001b[0mplot\u001b[0m\u001b[0;34m(\u001b[0m\u001b[0mks3\u001b[0m\u001b[0;34m,\u001b[0m \u001b[0merrors3\u001b[0m\u001b[0;34m,\u001b[0m \u001b[0;34m'-o'\u001b[0m\u001b[0;34m)\u001b[0m\u001b[0;34m\u001b[0m\u001b[0;34m\u001b[0m\u001b[0m\n\u001b[0m\u001b[1;32m      4\u001b[0m \u001b[0mplt\u001b[0m\u001b[0;34m.\u001b[0m\u001b[0mxticks\u001b[0m\u001b[0;34m(\u001b[0m\u001b[0mks3\u001b[0m\u001b[0;34m)\u001b[0m\u001b[0;34m\u001b[0m\u001b[0;34m\u001b[0m\u001b[0m\n\u001b[1;32m      5\u001b[0m \u001b[0mplt\u001b[0m\u001b[0;34m.\u001b[0m\u001b[0mxlabel\u001b[0m\u001b[0;34m(\u001b[0m\u001b[0;34m\"k\"\u001b[0m\u001b[0;34m)\u001b[0m\u001b[0;34m\u001b[0m\u001b[0;34m\u001b[0m\u001b[0m\n",
      "\u001b[0;31mNameError\u001b[0m: name 'errors3' is not defined"
     ]
    },
    {
     "data": {
      "text/plain": [
       "<Figure size 1440x1440 with 0 Axes>"
      ]
     },
     "metadata": {},
     "output_type": "display_data"
    }
   ],
   "source": [
    "# DO NOT EDIT\n",
    "plt.figure(figsize=(20,20))\n",
    "plt.plot(ks3, errors3, '-o')\n",
    "plt.xticks(ks3)\n",
    "plt.xlabel(\"k\")\n",
    "plt.ylabel(\"total squared error\")\n",
    "plt.show()"
   ]
  },
  {
   "cell_type": "markdown",
   "metadata": {},
   "source": [
    "### Your output must be similar to the following:\n",
    "<img src=\"hw8_1.png\">"
   ]
  },
  {
   "cell_type": "markdown",
   "metadata": {},
   "source": [
    "## Problem 3 (40 pts): Recommender implementation\n",
    "\n",
    "- Make your own implementaion of item-based recommender system\n",
    "- You may use the code in textbook, but it may be too slow for large datasets.\n",
    "- You shouldn't import and use any module implementing recommender system directly\n",
    "- Use cosine similarity for item similarity\n",
    "\n",
    "- We will use movie rating dataset"
   ]
  },
  {
   "cell_type": "code",
   "execution_count": 9,
   "metadata": {
    "scrolled": true
   },
   "outputs": [
    {
     "data": {
      "text/html": [
       "<div>\n",
       "<style scoped>\n",
       "    .dataframe tbody tr th:only-of-type {\n",
       "        vertical-align: middle;\n",
       "    }\n",
       "\n",
       "    .dataframe tbody tr th {\n",
       "        vertical-align: top;\n",
       "    }\n",
       "\n",
       "    .dataframe thead th {\n",
       "        text-align: right;\n",
       "    }\n",
       "</style>\n",
       "<table border=\"1\" class=\"dataframe\">\n",
       "  <thead>\n",
       "    <tr style=\"text-align: right;\">\n",
       "      <th></th>\n",
       "      <th>movieId</th>\n",
       "      <th>title</th>\n",
       "      <th>genres</th>\n",
       "    </tr>\n",
       "  </thead>\n",
       "  <tbody>\n",
       "    <tr>\n",
       "      <th>0</th>\n",
       "      <td>1</td>\n",
       "      <td>Toy Story (1995)</td>\n",
       "      <td>Adventure|Animation|Children|Comedy|Fantasy</td>\n",
       "    </tr>\n",
       "    <tr>\n",
       "      <th>1</th>\n",
       "      <td>2</td>\n",
       "      <td>Jumanji (1995)</td>\n",
       "      <td>Adventure|Children|Fantasy</td>\n",
       "    </tr>\n",
       "    <tr>\n",
       "      <th>2</th>\n",
       "      <td>3</td>\n",
       "      <td>Grumpier Old Men (1995)</td>\n",
       "      <td>Comedy|Romance</td>\n",
       "    </tr>\n",
       "    <tr>\n",
       "      <th>3</th>\n",
       "      <td>4</td>\n",
       "      <td>Waiting to Exhale (1995)</td>\n",
       "      <td>Comedy|Drama|Romance</td>\n",
       "    </tr>\n",
       "    <tr>\n",
       "      <th>4</th>\n",
       "      <td>5</td>\n",
       "      <td>Father of the Bride Part II (1995)</td>\n",
       "      <td>Comedy</td>\n",
       "    </tr>\n",
       "  </tbody>\n",
       "</table>\n",
       "</div>"
      ],
      "text/plain": [
       "   movieId                               title  \\\n",
       "0        1                    Toy Story (1995)   \n",
       "1        2                      Jumanji (1995)   \n",
       "2        3             Grumpier Old Men (1995)   \n",
       "3        4            Waiting to Exhale (1995)   \n",
       "4        5  Father of the Bride Part II (1995)   \n",
       "\n",
       "                                        genres  \n",
       "0  Adventure|Animation|Children|Comedy|Fantasy  \n",
       "1                   Adventure|Children|Fantasy  \n",
       "2                               Comedy|Romance  \n",
       "3                         Comedy|Drama|Romance  \n",
       "4                                       Comedy  "
      ]
     },
     "execution_count": 9,
     "metadata": {},
     "output_type": "execute_result"
    }
   ],
   "source": [
    "import pandas as pd\n",
    "\n",
    "movies = pd.read_csv('movies.csv')\n",
    "movies.head(5)"
   ]
  },
  {
   "cell_type": "code",
   "execution_count": 10,
   "metadata": {},
   "outputs": [
    {
     "data": {
      "text/plain": [
       "movieId    9742\n",
       "title      9742\n",
       "genres     9742\n",
       "dtype: int64"
      ]
     },
     "execution_count": 10,
     "metadata": {},
     "output_type": "execute_result"
    }
   ],
   "source": [
    "movies.count()"
   ]
  },
  {
   "cell_type": "code",
   "execution_count": 11,
   "metadata": {},
   "outputs": [
    {
     "data": {
      "text/html": [
       "<div>\n",
       "<style scoped>\n",
       "    .dataframe tbody tr th:only-of-type {\n",
       "        vertical-align: middle;\n",
       "    }\n",
       "\n",
       "    .dataframe tbody tr th {\n",
       "        vertical-align: top;\n",
       "    }\n",
       "\n",
       "    .dataframe thead th {\n",
       "        text-align: right;\n",
       "    }\n",
       "</style>\n",
       "<table border=\"1\" class=\"dataframe\">\n",
       "  <thead>\n",
       "    <tr style=\"text-align: right;\">\n",
       "      <th></th>\n",
       "      <th>userId</th>\n",
       "      <th>movieId</th>\n",
       "      <th>rating</th>\n",
       "      <th>timestamp</th>\n",
       "    </tr>\n",
       "  </thead>\n",
       "  <tbody>\n",
       "    <tr>\n",
       "      <th>0</th>\n",
       "      <td>1</td>\n",
       "      <td>1</td>\n",
       "      <td>4.0</td>\n",
       "      <td>964982703</td>\n",
       "    </tr>\n",
       "    <tr>\n",
       "      <th>1</th>\n",
       "      <td>1</td>\n",
       "      <td>3</td>\n",
       "      <td>4.0</td>\n",
       "      <td>964981247</td>\n",
       "    </tr>\n",
       "    <tr>\n",
       "      <th>2</th>\n",
       "      <td>1</td>\n",
       "      <td>6</td>\n",
       "      <td>4.0</td>\n",
       "      <td>964982224</td>\n",
       "    </tr>\n",
       "    <tr>\n",
       "      <th>3</th>\n",
       "      <td>1</td>\n",
       "      <td>47</td>\n",
       "      <td>5.0</td>\n",
       "      <td>964983815</td>\n",
       "    </tr>\n",
       "    <tr>\n",
       "      <th>4</th>\n",
       "      <td>1</td>\n",
       "      <td>50</td>\n",
       "      <td>5.0</td>\n",
       "      <td>964982931</td>\n",
       "    </tr>\n",
       "  </tbody>\n",
       "</table>\n",
       "</div>"
      ],
      "text/plain": [
       "   userId  movieId  rating  timestamp\n",
       "0       1        1     4.0  964982703\n",
       "1       1        3     4.0  964981247\n",
       "2       1        6     4.0  964982224\n",
       "3       1       47     5.0  964983815\n",
       "4       1       50     5.0  964982931"
      ]
     },
     "execution_count": 11,
     "metadata": {},
     "output_type": "execute_result"
    }
   ],
   "source": [
    "ratings = pd.read_csv('ratings.csv')\n",
    "ratings.head(5)"
   ]
  },
  {
   "cell_type": "code",
   "execution_count": 12,
   "metadata": {},
   "outputs": [
    {
     "data": {
      "text/plain": [
       "userId       100836\n",
       "movieId      100836\n",
       "rating       100836\n",
       "timestamp    100836\n",
       "dtype: int64"
      ]
     },
     "execution_count": 12,
     "metadata": {},
     "output_type": "execute_result"
    }
   ],
   "source": [
    "ratings.count()"
   ]
  },
  {
   "cell_type": "markdown",
   "metadata": {},
   "source": [
    "## The following is top 10 recommendations of movie titles and their genres  from top 1 to top 10 for user 1\n",
    "```\n",
    "Ferris Bueller's Day Off (1986)                   Comedy              \n",
    "Die Hard (1988)                                   Action|Crime|Thriller\n",
    "Breakfast Club, The (1985)                        Comedy|Drama        \n",
    "Fifth Element, The (1997)                         Action|Adventure|Comedy|Sci-Fi\n",
    "Aliens (1986)                                     Action|Adventure|Horror|Sci-Fi\n",
    "Mars Attacks! (1996)                              Action|Comedy|Sci-Fi\n",
    "Sixth Sense, The (1999)                           Drama|Horror|Mystery\n",
    "Austin Powers: The Spy Who Shagged Me (1999)      Action|Adventure|Comedy\n",
    "2001: A Space Odyssey (1968)                      Adventure|Drama|Sci-Fi\n",
    "Terminator 2: Judgment Day (1991)                 Action|Sci-Fi       \n",
    "```    "
   ]
  },
  {
   "cell_type": "code",
   "execution_count": 13,
   "metadata": {},
   "outputs": [
    {
     "data": {
      "text/plain": [
       "231    5060\n",
       "185    2872\n",
       "89     1291\n",
       "90     1298\n",
       "190    2948\n",
       "189    2947\n",
       "188    2944\n",
       "186    2899\n",
       "184    2858\n",
       "179    2700\n",
       "Name: movieId, dtype: int64"
      ]
     },
     "execution_count": 13,
     "metadata": {},
     "output_type": "execute_result"
    }
   ],
   "source": [
    "ratings.loc[ratings.userId==1].sort_values(by=['rating'], ascending=False).movieId[:10]"
   ]
  },
  {
   "cell_type": "markdown",
   "metadata": {},
   "source": [
    "## Find top 10 recommendations of movie titles and their genres from top 1 to top 10 for user 2"
   ]
  },
  {
   "cell_type": "code",
   "execution_count": 14,
   "metadata": {},
   "outputs": [
    {
     "name": "stdout",
     "output_type": "stream",
     "text": [
      "                                               title  \\\n",
      "0  The Jinx: The Life and Deaths of Robert Durst ...   \n",
      "1                          Mad Max: Fury Road (2015)   \n",
      "2                    Wolf of Wall Street, The (2013)   \n",
      "3                                     Warrior (2011)   \n",
      "4                               Step Brothers (2008)   \n",
      "5                                  Inside Job (2010)   \n",
      "6                           Good Will Hunting (1997)   \n",
      "7                            Dark Knight, The (2008)   \n",
      "8                        Inglourious Basterds (2009)   \n",
      "9                                   Town, The (2010)   \n",
      "\n",
      "                             genres  \n",
      "0                       Documentary  \n",
      "1  Action|Adventure|Sci-Fi|Thriller  \n",
      "2                Comedy|Crime|Drama  \n",
      "3                             Drama  \n",
      "4                            Comedy  \n",
      "5                       Documentary  \n",
      "6                     Drama|Romance  \n",
      "7           Action|Crime|Drama|IMAX  \n",
      "8                  Action|Drama|War  \n",
      "9              Crime|Drama|Thriller  \n"
     ]
    }
   ],
   "source": [
    "# YOUR CODE HERE. You may use as many code cells as you want.\n",
    "mov=list(ratings.loc[ratings.userId==2].sort_values(by=['rating'], ascending=False).movieId[:10])\n",
    "# print(mov)\n",
    "df = pd.DataFrame(columns = ['title','genres'])\n",
    "for i in range (len(mov)):\n",
    "    df.loc[i]=0\n",
    "\n",
    "idx=0\n",
    "for i in mov:\n",
    "    if (movies['movieId']==i).any():\n",
    "#         print(movies.loc[movies['movieId']==i,['title','genres']])\n",
    "#         print(list(movies.loc[movies['movieId']==i].title)[0])\n",
    "        df.loc[idx]={'title':list(movies.loc[movies['movieId']==i].title)[0],\n",
    "                     'genres':list(movies[movies['movieId']==i].genres)[0]}\n",
    "        idx+=1\n",
    "print(df)"
   ]
  },
  {
   "cell_type": "markdown",
   "metadata": {},
   "source": [
    "## Ethics:\n",
    "If you cheat, you will get negatgive of the total points.\n",
    "If the homework total is 22 and you cheat, you get -22."
   ]
  },
  {
   "cell_type": "markdown",
   "metadata": {},
   "source": [
    "## What to submit\n",
    "- Run all cells\n",
    "- Goto \"File -> Print Preview\"\n",
    "- Print the page\n",
    "- Submit in class\n",
    "- No late homeworks accepted\n",
    "- Your homework will be graded on the basis of correctness and programming skills"
   ]
  },
  {
   "cell_type": "markdown",
   "metadata": {},
   "source": [
    "## Deadline: 6/25"
   ]
  }
 ],
 "metadata": {
  "celltoolbar": "Slideshow",
  "hide_input": false,
  "kernelspec": {
   "display_name": "Python 3",
   "language": "python",
   "name": "python3"
  },
  "language_info": {
   "codemirror_mode": {
    "name": "ipython",
    "version": 3
   },
   "file_extension": ".py",
   "mimetype": "text/x-python",
   "name": "python",
   "nbconvert_exporter": "python",
   "pygments_lexer": "ipython3",
   "version": "3.7.1"
  }
 },
 "nbformat": 4,
 "nbformat_minor": 2
}
