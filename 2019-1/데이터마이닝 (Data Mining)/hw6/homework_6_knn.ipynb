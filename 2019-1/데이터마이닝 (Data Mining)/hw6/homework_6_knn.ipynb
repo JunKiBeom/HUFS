{
 "cells": [
  {
   "cell_type": "markdown",
   "metadata": {},
   "source": [
    "# Homework 6. KNN - Handwritten digits"
   ]
  },
  {
   "cell_type": "markdown",
   "metadata": {},
   "source": [
    "***Double Click here to edit this cell***\n",
    "\n",
    "- Name: 전기범\n",
    "- Student ID: 201703091\n",
    "- Submission date: 2019/05/20"
   ]
  },
  {
   "cell_type": "markdown",
   "metadata": {},
   "source": [
    "### We have 1797 handwritten digits of size 8x8 "
   ]
  },
  {
   "cell_type": "code",
   "execution_count": 7,
   "metadata": {
    "slideshow": {
     "slide_type": "-"
    }
   },
   "outputs": [
    {
     "name": "stdout",
     "output_type": "stream",
     "text": [
      "(1797, 64)\n"
     ]
    }
   ],
   "source": [
    "from sklearn.datasets import load_digits\n",
    "digits = load_digits()\n",
    "print(digits.data.shape)"
   ]
  },
  {
   "cell_type": "markdown",
   "metadata": {},
   "source": [
    "### Try with some handwritten images"
   ]
  },
  {
   "cell_type": "code",
   "execution_count": 8,
   "metadata": {},
   "outputs": [
    {
     "name": "stdout",
     "output_type": "stream",
     "text": [
      "Target is 4\n",
      "Data is :\n",
      "\n",
      "[[ 0.  0.  0.  2. 13.  0.  0.  0.]\n",
      " [ 0.  0.  0.  8. 15.  0.  0.  0.]\n",
      " [ 0.  0.  5. 16.  5.  2.  0.  0.]\n",
      " [ 0.  0. 15. 12.  1. 16.  4.  0.]\n",
      " [ 0.  4. 16.  2.  9. 16.  8.  0.]\n",
      " [ 0.  0. 10. 14. 16. 16.  4.  0.]\n",
      " [ 0.  0.  0.  0. 13.  8.  0.  0.]\n",
      " [ 0.  0.  0.  0. 13.  6.  0.  0.]]\n"
     ]
    },
    {
     "data": {
      "text/plain": [
       "<Figure size 432x288 with 0 Axes>"
      ]
     },
     "metadata": {},
     "output_type": "display_data"
    },
    {
     "data": {
      "image/png": "[encoded data removed]",
      "text/plain": [
       "<Figure size 288x288 with 1 Axes>"
      ]
     },
     "metadata": {
      "needs_background": "light"
     },
     "output_type": "display_data"
    }
   ],
   "source": [
    "%matplotlib inline\n",
    "\n",
    "import matplotlib.pyplot as plt \n",
    "\n",
    "k = 100\n",
    "print('Target is {}'.format(digits.target[k]))\n",
    "print('Data is :\\n')\n",
    "print(digits.data[k].reshape(8,8))\n",
    "plt.gray()\n",
    "plt.matshow(digits.images[k]) \n",
    "plt.show() "
   ]
  },
  {
   "cell_type": "markdown",
   "metadata": {},
   "source": [
    "# Problem 1 (30 pts)\n",
    "\n",
    "- We want to classify handwritten digits using **k nearest neighbor classifier**"
   ]
  },
  {
   "cell_type": "markdown",
   "metadata": {},
   "source": [
    "## STEP 1\n",
    "\n",
    "- Transform your data if necessary\n",
    "    - import whatever you need\n",
    "    - don't modify the random number seed\n",
    "- Split the data into training dataset (2/3 of the total data), test dataset(1/3 of the total data)"
   ]
  },
  {
   "cell_type": "code",
   "execution_count": 22,
   "metadata": {},
   "outputs": [],
   "source": [
    "from sklearn import datasets\n",
    "import numpy as np\n",
    "\n",
    "digits = datasets.load_digits()\n",
    "\n",
    "# YOUR CODE HERE\n",
    "np.random.seed(0)     # 반드시 여기에\n",
    "#X_train, X_test, y_train, y_test = train_test_split(X_whatever, y_whatever, test_size=0.33)"
   ]
  },
  {
   "cell_type": "markdown",
   "metadata": {},
   "source": [
    "## STEP 2\n",
    "\n",
    "- Use sklearn k nearest neighbor classifier to classify digits\n",
    "- Print confusion matrix, classification report, accuracy\n",
    "- This homework will be graded based on **accuracy**"
   ]
  },
  {
   "cell_type": "code",
   "execution_count": 6,
   "metadata": {},
   "outputs": [
    {
     "name": "stdout",
     "output_type": "stream",
     "text": [
      "confusion matrix : \n",
      "\n"
     ]
    },
    {
     "ename": "NameError",
     "evalue": "name 'cm' is not defined",
     "output_type": "error",
     "traceback": [
      "\u001b[0;31m---------------------------------------------------------------------------\u001b[0m",
      "\u001b[0;31mNameError\u001b[0m                                 Traceback (most recent call last)",
      "\u001b[0;32m<ipython-input-6-a81facfc55b5>\u001b[0m in \u001b[0;36m<module>\u001b[0;34m\u001b[0m\n\u001b[1;32m      2\u001b[0m \u001b[0;34m\u001b[0m\u001b[0m\n\u001b[1;32m      3\u001b[0m \u001b[0mprint\u001b[0m\u001b[0;34m(\u001b[0m\u001b[0;34m'confusion matrix : \\n'\u001b[0m\u001b[0;34m)\u001b[0m\u001b[0;34m\u001b[0m\u001b[0;34m\u001b[0m\u001b[0m\n\u001b[0;32m----> 4\u001b[0;31m \u001b[0mprint\u001b[0m\u001b[0;34m(\u001b[0m\u001b[0mcm\u001b[0m\u001b[0;34m)\u001b[0m\u001b[0;34m\u001b[0m\u001b[0;34m\u001b[0m\u001b[0m\n\u001b[0m\u001b[1;32m      5\u001b[0m \u001b[0mprint\u001b[0m\u001b[0;34m(\u001b[0m\u001b[0;34m'\\n\\nclassification_report : \\n'\u001b[0m\u001b[0;34m)\u001b[0m\u001b[0;34m\u001b[0m\u001b[0;34m\u001b[0m\u001b[0m\n\u001b[1;32m      6\u001b[0m \u001b[0mprint\u001b[0m\u001b[0;34m(\u001b[0m\u001b[0mcr\u001b[0m\u001b[0;34m)\u001b[0m\u001b[0;34m\u001b[0m\u001b[0;34m\u001b[0m\u001b[0m\n",
      "\u001b[0;31mNameError\u001b[0m: name 'cm' is not defined"
     ]
    }
   ],
   "source": [
    "# YOUR CODE HERE\n",
    "\n",
    "print('confusion matrix : \\n')\n",
    "print(cm)\n",
    "print('\\n\\nclassification_report : \\n')\n",
    "print(cr)\n",
    "print('Average accuracy = {:.2f}%'.format(accuracy*100))"
   ]
  },
  {
   "cell_type": "markdown",
   "metadata": {},
   "source": [
    "- This is my result. \n",
    "    - Two 8's are misclassified as 1\n",
    "    - One 9 is misclassified as 5.\n",
    "    - One 9 is misclassified as 8.\n",
    "\n",
    "```\n",
    "confusion matrix :\n",
    "\n",
    "[[49  0  0  0  0  0  0  0  0  0]\n",
    " [ 0 61  0  0  0  0  0  0  0  0]\n",
    " [ 0  0 61  1  0  0  0  0  0  0]\n",
    " [ 0  0  0 55  0  0  0  0  0  0]\n",
    " [ 0  0  0  0 50  0  0  0  0  0]\n",
    " [ 0  0  0  0  0 63  1  0  0  1]\n",
    " [ 0  0  0  0  0  0 67  0  0  0]\n",
    " [ 0  0  0  0  0  0  0 56  0  0]\n",
    " [ 0  2  0  0  0  0  0  0 65  0]\n",
    " [ 0  0  0  1  0  0  0  0  0 61]]\n",
    "\n",
    "\n",
    "classification_report :\n",
    "\n",
    "              precision    recall  f1-score   support          \n",
    "\n",
    "          0       1.00      1.00      1.00        49 \n",
    "          1       0.97      1.00      0.98        61\n",
    "          2       1.00      0.98      0.99        62\n",
    "          3       0.96      1.00      0.98        55\n",
    "          4       1.00      1.00      1.00        50\n",
    "          5       1.00      0.97      0.98        65\n",
    "          6       0.99      1.00      0.99        67 \n",
    "          7       1.00      1.00      1.00        56 \n",
    "          8       1.00      0.97      0.98        67 \n",
    "          9       0.98      0.98      0.98        62\n",
    "\n",
    "avg / total       0.99      0.99      0.99       594\n",
    "\n",
    "Average accuracy = 98.99%\n",
    "```"
   ]
  },
  {
   "cell_type": "markdown",
   "metadata": {},
   "source": [
    "## State-of-the-Art of MNIST classification: 99.79%\n",
    "\n",
    "- https://rodrigob.github.io/are_we_there_yet/build/classification_datasets_results.html\n",
    "- MNIST dataset is much bigger dataset: 60,000 training images and 10,000 testing images"
   ]
  },
  {
   "cell_type": "markdown",
   "metadata": {},
   "source": [
    "# Problem 2 (30 pts)\n",
    "\n",
    "- If you choose any hyperparameters and you did any transformation in your data, justify your choice and transformation.\n",
    "- The justification must be code, data, or plotted images, **not your guess!!!**\n",
    "- This must be a longer code. \n",
    "- Use plotted image whenever possible.\n",
    "- You may add as many cells as you want.\n",
    "- To add a cell, insert->insert cell or click '+' button above in the notebook."
   ]
  },
  {
   "cell_type": "code",
   "execution_count": null,
   "metadata": {},
   "outputs": [],
   "source": [
    "# ADD YOUE CELL"
   ]
  },
  {
   "cell_type": "code",
   "execution_count": null,
   "metadata": {},
   "outputs": [],
   "source": [
    "# ADD YOUE CELL"
   ]
  },
  {
   "cell_type": "markdown",
   "metadata": {},
   "source": [
    "### Written justification for your hyperparameter choice and data transformation\n",
    "\n",
    "- WRITE HERE (To edit, double click this cell)\n",
    "\n"
   ]
  },
  {
   "cell_type": "markdown",
   "metadata": {},
   "source": [
    "## Ethics:\n",
    "If you cheat, you will get negatgive of the total points.\n",
    "If the homework total is 22 and you cheat, you get -22."
   ]
  },
  {
   "cell_type": "markdown",
   "metadata": {
    "slideshow": {
     "slide_type": "-"
    }
   },
   "source": [
    "# What to submit\n",
    "- Run all cells\n",
    "- Goto \"File -> Print Preview\"\n",
    "- Print the page\n",
    "- Submit in class\n",
    "- No late homeworks accepted\n",
    "- Your homework will be graded on the basis of correctness and programming skills"
   ]
  },
  {
   "cell_type": "markdown",
   "metadata": {},
   "source": [
    "## Deadline: 5/20"
   ]
  }
 ],
 "metadata": {
  "celltoolbar": "Slideshow",
  "hide_input": false,
  "kernelspec": {
   "display_name": "Python 3",
   "language": "python",
   "name": "python3"
  },
  "language_info": {
   "codemirror_mode": {
    "name": "ipython",
    "version": 3
   },
   "file_extension": ".py",
   "mimetype": "text/x-python",
   "name": "python",
   "nbconvert_exporter": "python",
   "pygments_lexer": "ipython3",
   "version": "3.7.1"
  }
 },
 "nbformat": 4,
 "nbformat_minor": 2
}
