{
 "cells": [
  {
   "cell_type": "markdown",
   "metadata": {},
   "source": [
    "# Homework 5. Pandas - Titanic"
   ]
  },
  {
   "cell_type": "markdown",
   "metadata": {},
   "source": [
    "***Double Click here to edit this cell***\n",
    "\n",
    "- Name: 전기범\n",
    "- Student ID: 201703091\n",
    "- Submission date: 2019/05/02"
   ]
  },
  {
   "cell_type": "code",
   "execution_count": 1,
   "metadata": {},
   "outputs": [],
   "source": [
    "import pandas as pd"
   ]
  },
  {
   "cell_type": "code",
   "execution_count": 2,
   "metadata": {},
   "outputs": [],
   "source": [
    "titanic = pd.read_csv('titanic_dataset.csv')"
   ]
  },
  {
   "cell_type": "markdown",
   "metadata": {},
   "source": [
    "### Data Dictionary\n",
    "- Survived: \t0 = No, 1 = Yes  \n",
    "- pclass: \tTicket class\t1 = 1st, 2 = 2nd, 3 = 3rd  \t\n",
    "- name: Name \n",
    "- sex: {'male', 'female'} \n",
    "- age: Age\n",
    "- sibsp:\t# of siblings / spouses aboard the Titanic  \t\n",
    "- parch:\t# of parents / children aboard the Titanic  \t\n",
    "- ticket:\tTicket number\t\n",
    "- cabin:\tCabin number\t\n",
    "- embarked:\tPort of Embarkation\tC = Cherbourg, Q = Queenstown, S = Southampton  \n",
    "- boat: boat # of survived passengers"
   ]
  },
  {
   "cell_type": "markdown",
   "metadata": {},
   "source": [
    "## Problem 1. Find mean fare that the first class passengers paid (In Korean current currency) (5 pts)\n",
    "- Note that there are many unpaid free passengers. They are out of consideration.\n",
    "- 1 pound when Titanic launched is worth 57.5 US dollars. \n",
    "- Suppose US currency exchange ratio is 1141 won per dollar.\n",
    "- Before printing, truncate to two decimal places (소수점 이하 두자리)"
   ]
  },
  {
   "cell_type": "code",
   "execution_count": 3,
   "metadata": {
    "scrolled": false
   },
   "outputs": [
    {
     "name": "stdout",
     "output_type": "stream",
     "text": [
      "mean fare that the first class passengers paid = 5868425.67\n"
     ]
    }
   ],
   "source": [
    "# YOUR CODE HERE\n",
    "# 0원 이상, fair 모두 더해서 min, 평균 계산\n",
    "import numpy as np\n",
    "fare=titanic.loc[(titanic['pclass']==1) & (titanic['fare']>0),['fare']]['fare']\n",
    "print(\"mean fare that the first class passengers paid = %.2f\"%(np.mean(fare)*57.5*1141))"
   ]
  },
  {
   "cell_type": "markdown",
   "metadata": {},
   "source": [
    "```\n",
    "mean fare that the first class passengers paid = 5868425.67\n",
    "```"
   ]
  },
  {
   "cell_type": "markdown",
   "metadata": {},
   "source": [
    "## Problem 2. (15 pts)\n",
    "### 2.1 Find the **name**s who paid the highest **fare**. Are they **survived**?"
   ]
  },
  {
   "cell_type": "code",
   "execution_count": 4,
   "metadata": {},
   "outputs": [
    {
     "name": "stdout",
     "output_type": "stream",
     "text": [
      "                                                  name  survived\n",
      "49                  Cardeza, Mr. Thomas Drake Martinez         1\n",
      "50   Cardeza, Mrs. James Warburton Martinez (Charlo...         1\n",
      "183                             Lesurer, Mr. Gustave J         1\n",
      "302                                   Ward, Miss. Anna         1\n"
     ]
    }
   ],
   "source": [
    "# YOUR CODE HERE\n",
    "maxFare=titanic.loc[(titanic['survived']==1) & (titanic['pclass']==1),['fare']].max()\n",
    "print(titanic.loc[(titanic['fare']==maxFare[0]),['name','survived']])"
   ]
  },
  {
   "cell_type": "markdown",
   "metadata": {},
   "source": [
    "```\n",
    "                                                  name  survived\n",
    "49                  Cardeza, Mr. Thomas Drake Martinez         1\n",
    "50   Cardeza, Mrs. James Warburton Martinez (Charlo...         1\n",
    "183                             Lesurer, Mr. Gustave J         1\n",
    "302                                   Ward, Miss. Anna         1\n",
    "```"
   ]
  },
  {
   "cell_type": "markdown",
   "metadata": {},
   "source": [
    "### 2.2 Find the **name**s who paid the lowest **fare**. Are they **survived**?"
   ]
  },
  {
   "cell_type": "code",
   "execution_count": 5,
   "metadata": {},
   "outputs": [
    {
     "name": "stdout",
     "output_type": "stream",
     "text": [
      "                                       name  pclass  survived\n",
      "7                    Andrews, Mr. Thomas Jr       1         0\n",
      "70    Chisholm, Mr. Roderick Robert Crispin       1         0\n",
      "125                        Fry, Mr. Richard       1         0\n",
      "150                   Harrison, Mr. William       1         0\n",
      "170                 Ismay, Mr. Joseph Bruce       1         1\n",
      "223           Parr, Mr. William Henry Marsh       1         0\n",
      "234         Reuchlin, Jonkheer. John George       1         0\n",
      "363                   Campbell, Mr. William       2         0\n",
      "384          Cunningham, Mr. Alfred Fleming       2         0\n",
      "410        Frost, Mr. Anthony Wood \"Archie\"       2         0\n",
      "473                    Knight, Mr. Robert J       2         0\n",
      "528             Parkes, Mr. Francis \"Frank\"       2         0\n",
      "581              Watson, Mr. Ennis Hastings       2         0\n",
      "896                     Johnson, Mr. Alfred       3         0\n",
      "898         Johnson, Mr. William Cahoone Jr       3         0\n",
      "963                     Leonard, Mr. Lionel       3         0\n",
      "1254           Tornquist, Mr. William Henry       3         1\n"
     ]
    }
   ],
   "source": [
    "# YOUR CODE HERE\n",
    "minFare=titanic.fare.min()\n",
    "print(titanic.loc[(titanic['fare']==minFare),['name','pclass','survived']])"
   ]
  },
  {
   "cell_type": "markdown",
   "metadata": {},
   "source": [
    "```\n",
    "                                       name  pclass  survived\n",
    "7                    Andrews, Mr. Thomas Jr       1         0\n",
    "70    Chisholm, Mr. Roderick Robert Crispin       1         0\n",
    "125                        Fry, Mr. Richard       1         0\n",
    "150                   Harrison, Mr. William       1         0\n",
    "170                 Ismay, Mr. Joseph Bruce       1         1\n",
    "223           Parr, Mr. William Henry Marsh       1         0\n",
    "234         Reuchlin, Jonkheer. John George       1         0\n",
    "363                   Campbell, Mr. William       2         0\n",
    "384          Cunningham, Mr. Alfred Fleming       2         0\n",
    "410        Frost, Mr. Anthony Wood \"Archie\"       2         0\n",
    "473                    Knight, Mr. Robert J       2         0\n",
    "528             Parkes, Mr. Francis \"Frank\"       2         0\n",
    "581              Watson, Mr. Ennis Hastings       2         0\n",
    "896                     Johnson, Mr. Alfred       3         0\n",
    "898         Johnson, Mr. William Cahoone Jr       3         0\n",
    "963                     Leonard, Mr. Lionel       3         0\n",
    "1254           Tornquist, Mr. William Henry       3         1\n",
    "```"
   ]
  },
  {
   "cell_type": "markdown",
   "metadata": {},
   "source": [
    "### 2.3 Find the **name**s who paid the lowest **fare** (> 0). Are they **survived**?"
   ]
  },
  {
   "cell_type": "code",
   "execution_count": 6,
   "metadata": {},
   "outputs": [
    {
     "name": "stdout",
     "output_type": "stream",
     "text": [
      "                           name  pclass  survived\n",
      "1082  Olsen, Master. Artur Karl       3         1\n"
     ]
    }
   ],
   "source": [
    "# YOUR CODE HERE\n",
    "minFare=titanic.loc[(titanic['fare']>0) & (titanic['survived']==1),['fare']].min()\n",
    "print(titanic.loc[(titanic['fare']==minFare[0]),['name','pclass','survived']])"
   ]
  },
  {
   "cell_type": "markdown",
   "metadata": {},
   "source": [
    "```\n",
    "                           name  pclass  survived\n",
    "1082  Olsen, Master. Artur Karl       3         1\n",
    "```"
   ]
  },
  {
   "cell_type": "markdown",
   "metadata": {},
   "source": [
    "## Problem 3. (10 pts)\n",
    "### 3.1 Find the survival ratio who paid more than 0 and less than or equal to the mean fare of third class"
   ]
  },
  {
   "cell_type": "code",
   "execution_count": 7,
   "metadata": {},
   "outputs": [
    {
     "name": "stdout",
     "output_type": "stream",
     "text": [
      "survived ratio of low 1 group = 25.33%\n"
     ]
    }
   ],
   "source": [
    "# YOUR CODE HERE\n",
    "fareMean = titanic.loc[(titanic['pclass']==3) & (titanic['fare']>0)].fare.mean()\n",
    "fareMore = titanic.loc[(titanic['fare']>0) & (titanic['fare']<=fareMean)]\n",
    "fareSurvived = titanic.loc[(titanic['survived']==1) & (titanic['fare']>0) & (titanic['fare']<=fareMean)]\n",
    "print(\"survived ratio of low 1 group = %.2f%%\"%float(len(fareSurvived)/len(fareMore)*100))"
   ]
  },
  {
   "cell_type": "markdown",
   "metadata": {},
   "source": [
    "```\n",
    "survived ratio of low 1 group = 25.33%\n",
    "```"
   ]
  },
  {
   "cell_type": "markdown",
   "metadata": {},
   "source": [
    "### 3.2 Find the survival ratio who paid more than the mean fare of first class"
   ]
  },
  {
   "cell_type": "code",
   "execution_count": 8,
   "metadata": {},
   "outputs": [
    {
     "name": "stdout",
     "output_type": "stream",
     "text": [
      "survived ratio of high 1 group = 72.16%\n"
     ]
    }
   ],
   "source": [
    "# YOUR CODE HERE\n",
    "fareMean = titanic.loc[titanic['pclass']==1].fare.mean()\n",
    "firstMore = titanic.loc[(titanic['fare']>fareMean)]\n",
    "firstMoreSurvived = titanic.loc[(titanic['survived']==1) & (titanic['fare']>fareMean)]\n",
    "print(\"survived ratio of high 1 group = %.2f%%\"%float(len(firstMoreSurvived)/len(firstMore)*100))"
   ]
  },
  {
   "cell_type": "markdown",
   "metadata": {},
   "source": [
    "```\n",
    "survived ratio of high 1 group = 72.16%\n",
    "```"
   ]
  },
  {
   "cell_type": "markdown",
   "metadata": {},
   "source": [
    "## Problem 4. (10 pts)\n",
    "### 4.1 Plot the number of male and female passengers"
   ]
  },
  {
   "cell_type": "code",
   "execution_count": 10,
   "metadata": {
    "scrolled": true
   },
   "outputs": [
    {
     "data": {
      "image/png": "[encoded data removed]",
      "text/plain": [
       "<Figure size 432x288 with 1 Axes>"
      ]
     },
     "metadata": {
      "needs_background": "light"
     },
     "output_type": "display_data"
    }
   ],
   "source": [
    "# YOUR CODE HERE\n",
    "import matplotlib.pyplot as plt\n",
    "\n",
    "def plot_sex():\n",
    "    plt.bar(np.arange(len(passNumber)),passNumber,width=0.5,label='name')\n",
    "    plt.xticks([i for i, _ in enumerate(passNumber)], sex,rotation=90)\n",
    "    plt.xlabel('sex')\n",
    "    plt.legend(fontsize=10)\n",
    "    plt.xlim(-0.5,1.5)\n",
    "    plt.show()\n",
    "\n",
    "sex = set(titanic.sex.values)\n",
    "passNumber=tuple(titanic['sex'].value_counts())[::-1]\n",
    "plot_sex()"
   ]
  },
  {
   "cell_type": "markdown",
   "metadata": {},
   "source": [
    "<img src=\"hw5_1.png\">"
   ]
  },
  {
   "cell_type": "markdown",
   "metadata": {},
   "source": [
    "### 4.2 Plot mean age and mean fare by sex"
   ]
  },
  {
   "cell_type": "code",
   "execution_count": 11,
   "metadata": {},
   "outputs": [
    {
     "data": {
      "image/png": "[encoded data removed]",
      "text/plain": [
       "<Figure size 432x288 with 1 Axes>"
      ]
     },
     "metadata": {
      "needs_background": "light"
     },
     "output_type": "display_data"
    }
   ],
   "source": [
    "# YOUR CODE HERE\n",
    "def plot_means():\n",
    "    bar_width = 0.25\n",
    "    plt.bar(np.arange(len(age)), age, bar_width, label='age')\n",
    "    plt.bar(np.arange(len(fare))+bar_width, fare, width=0.25, label='fare')\n",
    "    plt.xticks([i+bar_width/2 for i, _ in enumerate(passNumber)], sex,rotation=90)\n",
    "    plt.xlabel('sex')\n",
    "    plt.legend(fontsize=10)\n",
    "    plt.xlim(-0.5,1.8)\n",
    "    plt.show()\n",
    "    \n",
    "male, female = titanic.loc[titanic['sex']=='male'], titanic.loc[titanic['sex']=='female']\n",
    "age = (female.age.mean(), male.age.mean())\n",
    "fare = (female.fare.mean(), male.fare.mean())\n",
    "plot_means()"
   ]
  },
  {
   "cell_type": "markdown",
   "metadata": {},
   "source": [
    "<img src=\"hw5_2.png\">"
   ]
  },
  {
   "cell_type": "markdown",
   "metadata": {},
   "source": [
    "## Problem 5. (10 pts)\n",
    "### 5.1 Find the number of passengers by passenger's title."
   ]
  },
  {
   "cell_type": "code",
   "execution_count": 12,
   "metadata": {},
   "outputs": [],
   "source": [
    "# YOUR CODE HERE\n",
    "title=['Mr.','Miss.','Mrs.','Master.','Rev.','Dr.','Col.','Ms.','Major.','Jonkheer.','Capt.','Countess.','Lady.','Don.','Mme.','Dona.']\n",
    "\n"
   ]
  },
  {
   "cell_type": "markdown",
   "metadata": {},
   "source": [
    "```\n",
    " Mr.          757\n",
    " Miss.        260\n",
    " Mrs.         197\n",
    " Master.       61\n",
    " Rev.           8\n",
    " Dr.            8\n",
    " Col.           4\n",
    " Ms.            2\n",
    " Mlle.          2\n",
    " Major.         2\n",
    " Jonkheer.      1\n",
    " Sir.           1\n",
    " Capt.          1\n",
    " Countess.      1\n",
    " Lady.          1\n",
    " Don.           1\n",
    " Mme.           1\n",
    " Dona.          1\n",
    "Name: name, dtype: int64\n",
    "```"
   ]
  },
  {
   "cell_type": "markdown",
   "metadata": {},
   "source": [
    "### 5.2 Plot the mean fare by passenger's title"
   ]
  },
  {
   "cell_type": "code",
   "execution_count": null,
   "metadata": {},
   "outputs": [],
   "source": [
    "# YOUR CODE HERE\n"
   ]
  },
  {
   "cell_type": "markdown",
   "metadata": {},
   "source": [
    "<img src=\"hw5_3.png\">"
   ]
  },
  {
   "cell_type": "markdown",
   "metadata": {},
   "source": [
    "## Problem 6. (15 pts)\n",
    "### Compute the confidence and support for the following cases:\n",
    "\n",
    "#조건부 확률\n",
    "\n",
    "Confidences:\n",
    "- P(survived = 1 | sex=female, pclass=1)\n",
    "- P(survived = 1 | sex=female, pclass=2)\n",
    "- P(survived = 1 | sex=female, pclass=3)\n",
    "- P(survived = 1 | sex=male, pclass=1)\n",
    "- P(survived = 1 | sex=male, pclass=2)\n",
    "- P(survived = 1 | sex=male, pclass=3)\n",
    "- P(survived = 1 | age <= 10, pclass=1)\n",
    "- P(survived = 1 | age <= 10, pclass=2)\n",
    "- P(survived = 1 | age <= 10, pclass=3)\n",
    "\n",
    "Support:\n",
    "- P(survived = 1, sex=female, pclass=1)\n",
    "- P(survived = 1, sex=female, pclass=2)\n",
    "- P(survived = 1, sex=female, pclass=3)\n",
    "- P(survived = 1, sex=male, pclass=1)\n",
    "- P(survived = 1, sex=male, pclass=2)\n",
    "- P(survived = 1, sex=male, pclass=3)\n",
    "- P(survived = 1, age <= 10, pclass=1)\n",
    "- P(survived = 1, age <= 10, pclass=2)\n",
    "- P(survived = 1, age <= 10, pclass=3)"
   ]
  },
  {
   "cell_type": "markdown",
   "metadata": {},
   "source": [
    "### 6.1 P(survived = 1 | sex=female, pclass=1), P(survived = 1, sex=female, pclass=1)"
   ]
  },
  {
   "cell_type": "code",
   "execution_count": 13,
   "metadata": {},
   "outputs": [
    {
     "name": "stdout",
     "output_type": "stream",
     "text": [
      "Confidence: P(survived = 1 | sex=female, pclass=1) = 96.53\n",
      "Support: P(survived = 1, sex=female, pclass=1) = 10.62\n"
     ]
    }
   ],
   "source": [
    "# YOUR CODE HERE\n",
    "C = titanic.loc[(titanic['sex']=='female') & (titanic['pclass']==1)]\n",
    "S = titanic.loc[(titanic['survived']==1) & (titanic['sex']=='female') & (titanic['pclass']==1)]\n",
    "print(\"Confidence: P(survived = 1 | sex=female, pclass=1) = %.2f\"%(len(S)/len(C)*100))\n",
    "print(\"Support: P(survived = 1, sex=female, pclass=1) = %.2f\"%(len(S)/len(titanic)*100))"
   ]
  },
  {
   "cell_type": "markdown",
   "metadata": {},
   "source": [
    "```\n",
    "Confidence: P(survived = 1 | sex=female, pclass=1) = 96.53\n",
    "Support: P(survived = 1, sex=female, pclass=1) = 10.62\n",
    "```"
   ]
  },
  {
   "cell_type": "markdown",
   "metadata": {},
   "source": [
    "### 6.2 P(survived = 1 | sex=female, pclass=2), P(survived = 1, sex=female, pclass=2)"
   ]
  },
  {
   "cell_type": "code",
   "execution_count": 14,
   "metadata": {},
   "outputs": [
    {
     "name": "stdout",
     "output_type": "stream",
     "text": [
      "Confidence: P(survived = 1 | sex=female, pclass=2) = 88.68\n",
      "Support: P(survived = 1, sex=female, pclass=2) = 7.18\n"
     ]
    }
   ],
   "source": [
    "# YOUR CODE HERE\n",
    "C = titanic.loc[(titanic['sex']=='female') & (titanic['pclass']==2)]\n",
    "S = titanic.loc[(titanic['survived']==1) & (titanic['sex']=='female') & (titanic['pclass']==2)]\n",
    "print(\"Confidence: P(survived = 1 | sex=female, pclass=2) = %.2f\"%(len(S)/len(C)*100))\n",
    "print(\"Support: P(survived = 1, sex=female, pclass=2) = %.2f\"%(len(S)/len(titanic)*100))"
   ]
  },
  {
   "cell_type": "markdown",
   "metadata": {},
   "source": [
    "```\n",
    "Confidence: P(survived = 1 | sex=female, pclass=2) = 88.68\n",
    "Support: P(survived = 1, sex=female, pclass=2) = 7.18\n",
    "```"
   ]
  },
  {
   "cell_type": "markdown",
   "metadata": {},
   "source": [
    "### 6.3 P(survived = 1 | sex=female, pclass=3), P(survived = 1, sex=female, pclass=3)"
   ]
  },
  {
   "cell_type": "code",
   "execution_count": 15,
   "metadata": {},
   "outputs": [
    {
     "name": "stdout",
     "output_type": "stream",
     "text": [
      "Confidence: P(survived = 1 | sex=female, pclass=3) = 49.07\n",
      "Support: P(survived = 1, sex=female, pclass=3) = 8.10\n"
     ]
    }
   ],
   "source": [
    "# YOUR CODE HERE\n",
    "C = titanic.loc[(titanic['sex']=='female') & (titanic['pclass']==3)]\n",
    "S = titanic.loc[(titanic['survived']==1) & (titanic['sex']=='female') & (titanic['pclass']==3)]\n",
    "print(\"Confidence: P(survived = 1 | sex=female, pclass=3) = %.2f\"%(len(S)/len(C)*100))\n",
    "print(\"Support: P(survived = 1, sex=female, pclass=3) = %.2f\"%(len(S)/len(titanic)*100))"
   ]
  },
  {
   "cell_type": "markdown",
   "metadata": {},
   "source": [
    "```\n",
    "Confidence: P(survived = 1 | sex=female, pclass=3) = 49.07\n",
    "Support: P(survived = 1, sex=female, pclass=3) = 8.10\n",
    "```"
   ]
  },
  {
   "cell_type": "markdown",
   "metadata": {},
   "source": [
    "### 6.4 P(survived = 1 | sex=male, pclass=1), P(survived = 1, sex=male, pclass=1)"
   ]
  },
  {
   "cell_type": "code",
   "execution_count": 16,
   "metadata": {},
   "outputs": [
    {
     "name": "stdout",
     "output_type": "stream",
     "text": [
      "Confidence: P(survived = 1 | sex=male, pclass=1) = 34.08\n",
      "Support: P(survived = 1, sex=male, pclass=1) = 4.66\n"
     ]
    }
   ],
   "source": [
    "# YOUR CODE HERE\n",
    "C = titanic.loc[(titanic['sex']=='male') & (titanic['pclass']==1)]\n",
    "S = titanic.loc[(titanic['survived']==1) & (titanic['sex']=='male') & (titanic['pclass']==1)]\n",
    "print(\"Confidence: P(survived = 1 | sex=male, pclass=1) = %.2f\"%(len(S)/len(C)*100))\n",
    "print(\"Support: P(survived = 1, sex=male, pclass=1) = %.2f\"%(len(S)/len(titanic)*100))"
   ]
  },
  {
   "cell_type": "markdown",
   "metadata": {},
   "source": [
    "```\n",
    "Confidence: P(survived = 1 | sex=male, pclass=1) = 34.08\n",
    "Support: P(survived = 1, sex=male, pclass=1) = 4.66\n",
    "```"
   ]
  },
  {
   "cell_type": "markdown",
   "metadata": {},
   "source": [
    "### 6.5 P(survived = 1 | sex=male, pclass=2), P(survived = 1, sex=male, pclass=2)"
   ]
  },
  {
   "cell_type": "code",
   "execution_count": 17,
   "metadata": {},
   "outputs": [
    {
     "name": "stdout",
     "output_type": "stream",
     "text": [
      "Confidence: P(survived = 1 | sex=male, pclass=2) = 14.62\n",
      "Support: P(survived = 1, sex=male, pclass=2) = 1.91\n"
     ]
    }
   ],
   "source": [
    "# YOUR CODE HERE\n",
    "C = titanic.loc[(titanic['sex']=='male') & (titanic['pclass']==2)]\n",
    "S = titanic.loc[(titanic['survived']==1) & (titanic['sex']=='male') & (titanic['pclass']==2)]\n",
    "print(\"Confidence: P(survived = 1 | sex=male, pclass=2) = %.2f\"%(len(S)/len(C)*100))\n",
    "print(\"Support: P(survived = 1, sex=male, pclass=2) = %.2f\"%(len(S)/len(titanic)*100))"
   ]
  },
  {
   "cell_type": "markdown",
   "metadata": {},
   "source": [
    "```\n",
    "Confidence: P(survived = 1 | sex=male, pclass=2) = 14.62\n",
    "Support: P(survived = 1, sex=male, pclass=2) = 1.91\n",
    "```"
   ]
  },
  {
   "cell_type": "markdown",
   "metadata": {},
   "source": [
    "### 6.6 P(survived = 1 | sex=male, pclass=3), P(survived = 1, sex=male, pclass=3)"
   ]
  },
  {
   "cell_type": "code",
   "execution_count": 18,
   "metadata": {},
   "outputs": [
    {
     "name": "stdout",
     "output_type": "stream",
     "text": [
      "Confidence: P(survived = 1 | sex=male, pclass=3) = 15.21\n",
      "Support: P(survived = 1, sex=male, pclass=3) = 5.73\n"
     ]
    }
   ],
   "source": [
    "# YOUR CODE HERE\n",
    "C = titanic.loc[(titanic['sex']=='male') & (titanic['pclass']==3)]\n",
    "S = titanic.loc[(titanic['survived']==1) & (titanic['sex']=='male') & (titanic['pclass']==3)]\n",
    "print(\"Confidence: P(survived = 1 | sex=male, pclass=3) = %.2f\"%(len(S)/len(C)*100))\n",
    "print(\"Support: P(survived = 1, sex=male, pclass=3) = %.2f\"%(len(S)/len(titanic)*100))"
   ]
  },
  {
   "cell_type": "markdown",
   "metadata": {},
   "source": [
    "```\n",
    "Confidence: P(survived = 1 | sex=male, pclass=3) = 15.21\n",
    "Support: P(survived = 1, sex=male, pclass=3) = 5.73\n",
    "```"
   ]
  },
  {
   "cell_type": "markdown",
   "metadata": {},
   "source": [
    "### 6.7 P(survived = 1 | age <= 10, pclass=1), P(survived = 1,  age <= 10, pclass=1)"
   ]
  },
  {
   "cell_type": "code",
   "execution_count": 19,
   "metadata": {},
   "outputs": [
    {
     "name": "stdout",
     "output_type": "stream",
     "text": [
      "Support: P(survived = 1 | age <= 10, pclass=1) = 75.00\n",
      "Support: P(survived = 1, age <= 10, pclass=1) = 0.23\n"
     ]
    }
   ],
   "source": [
    "# YOUR CODE HERE\n",
    "C = titanic.loc[(titanic['age']<=10) & (titanic['pclass']==1)]\n",
    "S = titanic.loc[(titanic['survived']==1) & (titanic['age']<=10) & (titanic['pclass']==1)]\n",
    "print(\"Support: P(survived = 1 | age <= 10, pclass=1) = %.2f\"%(len(S)/len(C)*100))\n",
    "print(\"Support: P(survived = 1, age <= 10, pclass=1) = %.2f\"%(len(S)/len(titanic)*100))"
   ]
  },
  {
   "cell_type": "markdown",
   "metadata": {},
   "source": [
    "```\n",
    "Confidence: P(survived = 1 | age <= 10, pclass=1) = 75.00\n",
    "Support: P(survived = 1, age <= 10, pclass=1) = 0.23\n",
    "```"
   ]
  },
  {
   "cell_type": "markdown",
   "metadata": {},
   "source": [
    "### 6.8 P(survived = 1 | age <= 10, pclass=2), P(survived = 1,  age <= 10, pclass=2)"
   ]
  },
  {
   "cell_type": "code",
   "execution_count": 20,
   "metadata": {},
   "outputs": [
    {
     "name": "stdout",
     "output_type": "stream",
     "text": [
      "Support: P(survived = 1 | age <= 10, pclass=2) = 100.00\n",
      "Support: P(survived = 1, age <= 10, pclass=2) = 1.68\n"
     ]
    }
   ],
   "source": [
    "# YOUR CODE HERE\n",
    "C = titanic.loc[(titanic['age']<=10) & (titanic['pclass']==2)]\n",
    "S = titanic.loc[(titanic['survived']==1) & (titanic['age']<=10) & (titanic['pclass']==2)]\n",
    "print(\"Support: P(survived = 1 | age <= 10, pclass=2) = %.2f\"%(len(S)/len(C)*100))\n",
    "print(\"Support: P(survived = 1, age <= 10, pclass=2) = %.2f\"%(len(S)/len(titanic)*100))"
   ]
  },
  {
   "cell_type": "markdown",
   "metadata": {},
   "source": [
    "```\n",
    "Confidence: P(survived = 1 | age <= 10, pclass=2) = 100.00\n",
    "Support: P(survived = 1, age <= 10, pclass=2) = 1.68\n",
    "```"
   ]
  },
  {
   "cell_type": "markdown",
   "metadata": {},
   "source": [
    "### 6.9 P(survived = 1 | age <= 10, pclass=3), P(survived = 1,  age <= 10, pclass=3)"
   ]
  },
  {
   "cell_type": "code",
   "execution_count": 21,
   "metadata": {},
   "outputs": [
    {
     "name": "stdout",
     "output_type": "stream",
     "text": [
      "Support: P(survived = 1 | age <= 10, pclass=3) = 41.67\n",
      "Support: P(survived = 1, age <= 10, pclass=3) = 1.91\n"
     ]
    }
   ],
   "source": [
    "# YOUR CODE HERE\n",
    "C = titanic.loc[(titanic['age']<=10) & (titanic['pclass']==3)]\n",
    "S = titanic.loc[(titanic['survived']==1) & (titanic['age']<=10) & (titanic['pclass']==3)]\n",
    "print(\"Support: P(survived = 1 | age <= 10, pclass=3) = %.2f\"%(len(S)/len(C)*100))\n",
    "print(\"Support: P(survived = 1, age <= 10, pclass=3) = %.2f\"%(len(S)/len(titanic)*100))"
   ]
  },
  {
   "cell_type": "markdown",
   "metadata": {},
   "source": [
    "```\n",
    "Confidence: P(survived = 1 | age <= 10, pclass=3) = 41.67\n",
    "Support: P(survived = 1, age <= 10, pclass=3) = 1.91\n",
    "```"
   ]
  },
  {
   "cell_type": "markdown",
   "metadata": {},
   "source": [
    "### 6.10 Discussion\n",
    "\n",
    "- Discuss what you learned from this analysis\n",
    "- WRITE HERE (To edit, double click this cell)\n",
    "\n",
    "<p>좌석의 등급이 높을수록, 남자보다 여자가, 어린 아이보다 성인이 살 확률이 더 높다는것을 알게 되었습니다\n"
   ]
  },
  {
   "cell_type": "markdown",
   "metadata": {},
   "source": [
    "## Problem 7. (10 pts)\n",
    "### 7.1 Plot numbers of survived and numbers of dead by passenger classes"
   ]
  },
  {
   "cell_type": "code",
   "execution_count": 22,
   "metadata": {},
   "outputs": [
    {
     "data": {
      "image/png": "[encoded data removed]",
      "text/plain": [
       "<Figure size 432x288 with 1 Axes>"
      ]
     },
     "metadata": {
      "needs_background": "light"
     },
     "output_type": "display_data"
    }
   ],
   "source": [
    "# YOUR CODE HERE\n",
    "def plot_survive():\n",
    "    bars = np.add(pclass1, pclass2).tolist()\n",
    "    plt.bar(np.arange(len(pclass1)),pclass1,width=0.5,label=1)\n",
    "    plt.bar(np.arange(len(pclass2)),pclass2,bottom=pclass1,width=0.5,label=2)\n",
    "    plt.bar(np.arange(len(pclass3)),pclass3,bottom=bars,width=0.5,label=3)\n",
    "    plt.xticks([i for i, _ in enumerate(labels)], labels,rotation=90)\n",
    "    plt.legend(fontsize=10)\n",
    "    plt.xlim(-0.5,1.5)\n",
    "    plt.show()\n",
    "\n",
    "pclass1 = (len(titanic.loc[(titanic['survived']==1) & (titanic['pclass']==1)]),\n",
    "           len(titanic.loc[(titanic['survived']==0) & (titanic['pclass']==1)]))\n",
    "pclass2 = (len(titanic.loc[(titanic['survived']==1) & (titanic['pclass']==2)]),\n",
    "           len(titanic.loc[(titanic['survived']==0) & (titanic['pclass']==2)]))\n",
    "pclass3 = (len(titanic.loc[(titanic['survived']==1) & (titanic['pclass']==3)]),\n",
    "           len(titanic.loc[(titanic['survived']==0) & (titanic['pclass']==3)]))\n",
    "labels = ('survived','dead')\n",
    "plot_survive()"
   ]
  },
  {
   "cell_type": "markdown",
   "metadata": {},
   "source": [
    "<img src=\"hw5_4.png\">"
   ]
  },
  {
   "cell_type": "markdown",
   "metadata": {},
   "source": [
    "### 7.2 Plot numbers of survived and numbers of dead by passenger age intervals\n",
    "-  0:   0 $\\le$ age $\\lt$ 20\n",
    "- 20: 20 $\\le$ age $\\lt$ 40\n",
    "- 40: 40 $\\le$ age $\\lt$ 60\n",
    "- 60: 60 $\\le$ age $\\lt$ 80\n",
    "- 80: 80 $\\le$ age"
   ]
  },
  {
   "cell_type": "code",
   "execution_count": 23,
   "metadata": {},
   "outputs": [
    {
     "data": {
      "image/png": "[encoded data removed]",
      "text/plain": [
       "<Figure size 432x288 with 1 Axes>"
      ]
     },
     "metadata": {
      "needs_background": "light"
     },
     "output_type": "display_data"
    }
   ],
   "source": [
    "# YOUR CODE HERE\n",
    "def plot_survive():\n",
    "    bars = np.add(a0, a20).tolist()\n",
    "    bars2 = np.add(bars, a40).tolist()\n",
    "    bars3 = np.add(bars2, a80).tolist()\n",
    "    plt.bar(np.arange(len(a0)),a0,width=0.5,label=0.0)\n",
    "    plt.bar(np.arange(len(a20)),a20,bottom=a0,width=0.5,label=20.0)\n",
    "    plt.bar(np.arange(len(a40)),a40,bottom=bars,width=0.5,label=40.0)\n",
    "    plt.bar(np.arange(len(a60)),a60,bottom=bars2,width=0.5,label=60.0)\n",
    "    plt.bar(np.arange(len(a80)),a80,bottom=bars3,width=0.5,label=80.0)\n",
    "    plt.xticks([i for i, _ in enumerate(labels)], labels,rotation=90)\n",
    "    plt.legend(fontsize=10,loc='lower center')\n",
    "    plt.xlim(-0.5,1.5)\n",
    "    plt.show()\n",
    "\n",
    "a0 = (len(titanic.loc[(titanic['survived']==1) & (titanic['age']>=0) & (titanic['age']<20)]),\n",
    "      len(titanic.loc[(titanic['survived']==0) & (titanic['age']>=0) & (titanic['age']<20)]))\n",
    "a20 = (len(titanic.loc[(titanic['survived']==1) & (titanic['age']>=20) & (titanic['age']<40)]),\n",
    "       len(titanic.loc[(titanic['survived']==0) & (titanic['age']>=20) & (titanic['age']<40)]))\n",
    "a40 = (len(titanic.loc[(titanic['survived']==1) & (titanic['age']>=40) & (titanic['age']<60)]),\n",
    "       len(titanic.loc[(titanic['survived']==0) & (titanic['age']>=40) & (titanic['age']<60)]))\n",
    "a60 = (len(titanic.loc[(titanic['survived']==1) & (titanic['age']>=60) & (titanic['age']<80)]),\n",
    "       len(titanic.loc[(titanic['survived']==0) & (titanic['age']>=60) & (titanic['age']<80)]))\n",
    "a80 = (len(titanic.loc[(titanic['survived']==1) & (titanic['age']>=80)]),\n",
    "       len(titanic.loc[(titanic['survived']==0) & (titanic['age']>=80)]))\n",
    "labels = ('survived','dead')\n",
    "plot_survive()"
   ]
  },
  {
   "cell_type": "markdown",
   "metadata": {},
   "source": [
    "<img src=\"hw5_5.png\">"
   ]
  },
  {
   "cell_type": "markdown",
   "metadata": {},
   "source": [
    "### 7.3 Plot numbers of survived and numbers of dead by the ports passenger embarked at"
   ]
  },
  {
   "cell_type": "code",
   "execution_count": 24,
   "metadata": {},
   "outputs": [
    {
     "data": {
      "image/png": "[encoded data removed]",
      "text/plain": [
       "<Figure size 432x288 with 1 Axes>"
      ]
     },
     "metadata": {
      "needs_background": "light"
     },
     "output_type": "display_data"
    }
   ],
   "source": [
    "# YOUR CODE HERE\n",
    "def plot_survive():\n",
    "    bars = np.add(S, C).tolist()\n",
    "    plt.bar(np.arange(len(S)),S,width=0.5,label='S')\n",
    "    plt.bar(np.arange(len(C)),C,bottom=S,width=0.5,label='C')\n",
    "    plt.bar(np.arange(len(Q)),Q,bottom=bars,width=0.5,label='Q')\n",
    "    plt.xticks([i for i, _ in enumerate(labels)], labels,rotation=90)\n",
    "    plt.legend(fontsize=10)\n",
    "    plt.xlim(-0.5,1.5)\n",
    "    plt.show()\n",
    "\n",
    "S = (len(titanic.loc[(titanic['survived']==1) & (titanic['embarked']=='S')]),\n",
    "     len(titanic.loc[(titanic['survived']==0) & (titanic['embarked']=='S')]))\n",
    "C = (len(titanic.loc[(titanic['survived']==1) & (titanic['embarked']=='C')]),\n",
    "     len(titanic.loc[(titanic['survived']==0) & (titanic['embarked']=='C')]))\n",
    "Q = (len(titanic.loc[(titanic['survived']==1) & (titanic['embarked']=='Q')]),\n",
    "     len(titanic.loc[(titanic['survived']==0) & (titanic['embarked']=='Q')]))\n",
    "labels = ('survived','dead')\n",
    "plot_survive()"
   ]
  },
  {
   "cell_type": "markdown",
   "metadata": {},
   "source": [
    "<img src=\"hw5_6.png\">"
   ]
  },
  {
   "cell_type": "markdown",
   "metadata": {},
   "source": [
    "### 7.4 Discussion\n",
    "\n",
    "- Discuss what you learned from this analysis\n",
    "- WRITE HERE (To edit, double click this cell)\n",
    "\n",
    "3등석에 탑승한 승객의 사망률이 가장높음<br>\n",
    "20대의 사람들이 구조, 사망한것으로 보아 20대 승객이 많았던것으로 추정<br>\n",
    "Southampton에서 승선한 사람 중 구조자와 사망자가 많은것으로 보아 Southampton에서 가장 많은 사람들을 승선한것으로 추정\n"
   ]
  },
  {
   "cell_type": "markdown",
   "metadata": {},
   "source": [
    "## Ethics:\n",
    "If you cheat, you will get negatgive of the total points.\n",
    "If the homework total is 22 and you cheat, you get -22."
   ]
  },
  {
   "cell_type": "markdown",
   "metadata": {},
   "source": [
    "## What to submit\n",
    "- Run all cells\n",
    "- Goto \"File -> Print Preview\"\n",
    "- Print the page\n",
    "- Submit in class\n",
    "- No late homeworks accepted\n",
    "- Your homework will be graded on the basis of correctness and programming skills"
   ]
  },
  {
   "cell_type": "markdown",
   "metadata": {},
   "source": [
    "## Deadline: 5/2"
   ]
  }
 ],
 "metadata": {
  "hide_input": false,
  "kernelspec": {
   "display_name": "Python 3",
   "language": "python",
   "name": "python3"
  },
  "language_info": {
   "codemirror_mode": {
    "name": "ipython",
    "version": 3
   },
   "file_extension": ".py",
   "mimetype": "text/x-python",
   "name": "python",
   "nbconvert_exporter": "python",
   "pygments_lexer": "ipython3",
   "version": "3.7.1"
  }
 },
 "nbformat": 4,
 "nbformat_minor": 2
}
