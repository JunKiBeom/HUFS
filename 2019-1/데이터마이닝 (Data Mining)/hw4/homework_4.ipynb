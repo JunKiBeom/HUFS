{
 "cells": [
  {
   "cell_type": "markdown",
   "metadata": {},
   "source": [
    "# Homework 4. Fequent Words and Web scraping"
   ]
  },
  {
   "cell_type": "markdown",
   "metadata": {},
   "source": [
    "***Double Click here to edit this cell***\n",
    "\n",
    "- Name: 전기범\n",
    "- Student ID: 201703091\n",
    "- Submission date: 2019/04/18"
   ]
  },
  {
   "cell_type": "markdown",
   "metadata": {},
   "source": [
    "## Problem 1 (15 pts)\n",
    "\n",
    "- Project Gutenberg is a volunteer effort to digitize and archive cultural works.\n",
    "- Moby-Dick is an 1851 novel by American writer Herman Melville.\n",
    "- You can find Moby-Dick in an ordinary text format at https://www.gutenberg.org/files/2701/old/moby10b.txt\n",
    "- Use **requests** module to get the text.\n",
    "\n",
    "\n",
    "- We want to compute word frequency of words appearing in mobydick and generate WordCloud\n",
    "    - First, you must split the text into words. \n",
    "    - To do that, **you find word delimiters** (for example, . or , ... whatever).\n",
    "    - To split into words, use **re** (regular expression module)\n",
    "    - Numbers should not be words. \n",
    "    - Null string is not a word. \n",
    "    - Any delimiters should not be words.\n",
    "    - (Upper or lower) Cases does not matter in words."
   ]
  },
  {
   "cell_type": "markdown",
   "metadata": {},
   "source": [
    "웹사이트의 데이터 긁어오기, 가장 자주 사용되는 단어 찾아보기"
   ]
  },
  {
   "cell_type": "markdown",
   "metadata": {},
   "source": [
    "### 1.1 Print top 50 most common words (5 pts)"
   ]
  },
  {
   "cell_type": "code",
   "execution_count": 1,
   "metadata": {},
   "outputs": [
    {
     "name": "stdout",
     "output_type": "stream",
     "text": [
      "[('the', 14512), ('of', 6676), ('and', 6471), ('a', 4774), ('to', 4690), ('in', 4190), ('that', 3095), ('it', 2542), ('his', 2530), ('i', 2128), ('he', 1896), ('but', 1823), ('s', 1811), ('as', 1750), ('is', 1748), ('with', 1729), ('was', 1647), ('for', 1643), ('all', 1537), ('this', 1437), ('at', 1332), ('by', 1232), ('whale', 1228), ('not', 1162), ('from', 1103), ('on', 1077), ('so', 1073), ('him', 1067), ('be', 1058), ('you', 949), ('one', 934), ('there', 870), ('now', 787), ('had', 779), ('have', 773), ('or', 761), ('were', 685), ('they', 669), ('which', 650), ('like', 648), ('me', 634), ('then', 632), ('some', 621), ('what', 620), ('their', 620), ('are', 611), ('when', 608), ('an', 600), ('no', 592), ('my', 589)]\n"
     ]
    }
   ],
   "source": [
    "import re, requests\n",
    "freq={}\n",
    "'''with open(\"moby10b.txt\", 'r', encoding='utf-8') as f:    # txt 파일 이용시\n",
    "    #L = re.findall('[a-z]+', f.read().lower())'''\n",
    "\n",
    "response = requests.get('http://www.gutenberg.org/files/2701/old/moby10b.txt')    # 크롤링 이용시\n",
    "L = re.findall('[a-z]+', response.text.lower())\n",
    "\n",
    "for word in L:\n",
    "    cnt = freq.get(word, 0)\n",
    "    freq[word] = cnt + 1\n",
    "\n",
    "print([(key,value) for key,value in sorted(freq.items(), key =lambda x:x[1], reverse=True)][:50])"
   ]
  },
  {
   "cell_type": "markdown",
   "metadata": {},
   "source": [
    " **Your output should be like the following**:\n",
    " ```python\n",
    "[('the', 14512), ('of', 6676), ('and', 6471), ('a', 4774), ('to', 4690), ('in', 4190), ('that', 3095), ('it', 2542), ('his', 2530), ('i', 2128), ('he', 1896), ('but', 1823), ('s', 1811), ('as', 1750), ('is', 1748), ('with', 1729), ('was', 1647), ('for', 1643), ('all', 1537), ('this', 1437), ('at', 1332), ('by', 1232), ('whale', 1228), ('not', 1162), ('from', 1103), ('on', 1077), ('so', 1073), ('him', 1067), ('be', 1058), ('you', 949), ('one', 934), ('there', 870), ('now', 787), ('had', 779), ('have', 773), ('or', 761), ('were', 685), ('they', 669), ('which', 650), ('like', 648), ('me', 634), ('then', 632), ('some', 621), ('what', 620), ('their', 620), ('are', 611), ('when', 608), ('an', 600), ('no', 592), ('my', 589)]\n",
    "```"
   ]
  },
  {
   "cell_type": "markdown",
   "metadata": {},
   "source": [
    "### 1.2 Plot word frequency (5 pts)\n",
    "\n",
    "- Sort the word frequency in descending order\n",
    "- Plot the word frequency\n",
    "- Plot the word frequency in log-log plot."
   ]
  },
  {
   "cell_type": "code",
   "execution_count": 15,
   "metadata": {},
   "outputs": [
    {
     "data": {
      "image/png": "[encoded data removed]",
      "text/plain": [
       "<Figure size 432x288 with 1 Axes>"
      ]
     },
     "metadata": {
      "needs_background": "light"
     },
     "output_type": "display_data"
    }
   ],
   "source": [
    "%matplotlib inline\n",
    "import matplotlib.pyplot as plt\n",
    "\n",
    "def plts():\n",
    "    \n",
    "    plt.plot(years,gdp)\n",
    "    plt.title(\"words frequency\")\n",
    "    plt.ylabel(\"frequency\")\n",
    "    plt.xlabel(\"words\")\n",
    "    plt.show\n",
    "    \n",
    "plts()"
   ]
  },
  {
   "cell_type": "markdown",
   "metadata": {},
   "source": [
    "**Your output be like**:\n",
    "<img src=\"hw4_1.png\">\n",
    "<img src=\"hw4_2.png\">"
   ]
  },
  {
   "cell_type": "markdown",
   "metadata": {},
   "source": [
    "### Discussion\n",
    "\n",
    "- Read this wikipedia article : https://ko.wikipedia.org/wiki/%EC%A7%80%ED%94%84%EC%9D%98_%EB%B2%95%EC%B9%99)\n",
    "- Discuss what you learned from the distribution.\n",
    "- WRITE HERE (To edit, double click this cell)\n",
    "\n",
    "\n"
   ]
  },
  {
   "cell_type": "markdown",
   "metadata": {},
   "source": [
    "### 1.3 Word Cloud (5 pts)\n",
    "\n",
    "- Print top 10 most words except stop words\n",
    "- Draw word cloud of top 10 most common words\n",
    "\n",
    "**Your output should be like**:\n",
    "```python\n",
    "[('whale', 1219), ('one', 932), ('like', 644), ('upon', 566), ('man', 525), ('ship', 517), ('ahab', 507), ('ye', 472), ('sea', 455), ('old', 450)]\n",
    "```\n",
    "**Your output should be like this (but NOT exactly the the same)**:\n",
    "<img src=\"hw4_3.png\">"
   ]
  },
  {
   "cell_type": "markdown",
   "metadata": {},
   "source": [
    "- The following is English stop words list"
   ]
  },
  {
   "cell_type": "code",
   "execution_count": null,
   "metadata": {},
   "outputs": [],
   "source": [
    "stopwords = {'it', 'than', 'out', 'an', 'at', 'until', 'wouldn', 'too', 'each', 'off', 'whom', 'not', 'ain', 'weren', \"you've\", 'isn', 've', \"that'll\", 'didn', 'couldn', 'with', 'for', 'me', \"shouldn't\", 'those', 'once', 'them', 'him', 'again', 'what', 'to', 's', 'don', 'yourselves', \"she's\", 'd', 'we', 'so', 'does', 'your', 'is', 'such', 'hasn', 'doesn', \"doesn't\", 'no', 'll', 'their', 'before', 'my', 'being', 'and', 'but', 'below', 'won', \"don't\", 't', 'myself', 'very', 'why', \"mustn't\", 'that', 'been', 'you', \"you'd\", 'few', 'other', 'ma', 'any', 'having', 'against', 'into', 'on', 'just', 'herself', \"hadn't\", \"mightn't\", 'aren', \"wouldn't\", 'ours', 'about', 'then', 'mustn', 'i', 'y', 'should', 'all', 'while', 'himself', 'do', 'up', 'were', 'this', 'most', 'when', 'nor', 'from', 'hadn', 'theirs', 'she', 'be', 'under', 'or', 'will', 'through', 'our', \"isn't\", 'as', 'between', 'had', 'more', \"aren't\", \"weren't\", 'if', 'the', 'am', 'how', 'both', \"you're\", 'yourself', \"couldn't\", 'only', 'in', 'itself', 'own', \"it's\", 'because', 'some', \"didn't\", 'wasn', 'shan', \"hasn't\", 'mightn', 'shouldn', 'here', 'he', 'where', 'm', 're', 'was', 'after', 'has', 'same', \"shan't\", 'further', \"wasn't\", 'down', 'yours', \"should've\", 'now', \"needn't\", 'above', 'haven', 'its', 'who', 'of', 'ourselves', 'did', 'these', 'there', 'his', \"haven't\", \"won't\", 'themselves', \"you'll\", 'a', 'are', 'which', 'have', 'by', 'during', 'can', 'hers', 'over', 'her', 'doing', 'o', 'needn', 'they'}"
   ]
  },
  {
   "cell_type": "code",
   "execution_count": null,
   "metadata": {},
   "outputs": [],
   "source": [
    "# YOUR CODE MUST BE HERE\n",
    "\n"
   ]
  },
  {
   "cell_type": "markdown",
   "metadata": {},
   "source": [
    "## Problem 2 (20 pts)\n",
    "\n",
    "- We want to find how many CS faculty members at CS department of Stanford Univ work on CS research areas.\n",
    "- First, visit https://cs.stanford.edu/research\n",
    "- Take a look at the source html of the web page.\n",
    "- We want to scrape data on all the faculty members\n",
    "- Run the following two cells and see what happens\n",
    "- If necessary, install html5lib"
   ]
  },
  {
   "cell_type": "code",
   "execution_count": null,
   "metadata": {},
   "outputs": [],
   "source": [
    "from bs4 import BeautifulSoup\n",
    "import requests\n",
    "\n",
    "#url = \"https://cs.stanford.edu/research\"\n",
    "url = \"https://cs.stanford.edu/research?items_per_page=All&field_faculty_status_value=active\"\n",
    "soup = BeautifulSoup(requests.get(url).text, 'html5lib')"
   ]
  },
  {
   "cell_type": "code",
   "execution_count": null,
   "metadata": {},
   "outputs": [],
   "source": [
    "print(soup.tbody.prettify())"
   ]
  },
  {
   "cell_type": "markdown",
   "metadata": {},
   "source": [
    "### Draw bar charts on research area contributions of Stanford CS faculty\n",
    "\n",
    "- The followings are research fields\n",
    "```python\n",
    "['Architecture', 'Artificial Intelligence', 'Computational Biology', 'Computer Graphics', 'Computer Security', 'Computer Systems', 'Computer Vision', 'Data Science', 'Education', 'Human-Computer Interaction (HCI)', 'Machine Learning', 'Natural Language Processing', 'Networking', 'Operating/Distributed Systems', 'Programming Systems and Verification', 'Robotics', 'Theory']\n",
    "```\n",
    "\n",
    "- In plotting, use the following abbreviations:\n",
    "\n",
    "```\n",
    "['ARC', 'AI', 'BIO', 'CG', 'SEC', 'SYS', 'VIS', 'DS', 'EDU', 'HCI', 'ML', 'NLP', 'NET', 'ODS', 'PS', 'ROB', 'TH']\n",
    "```\n",
    "\n",
    "- For each research area, we want to compute how many professors works on that area.\n",
    "- If one professor works on n research fields, the contribution to one research field is 1/n.\n",
    "- The colors for professor ranks (assistant, associate, full professors) may be your own choice.\n",
    "- Your output should be like:\n",
    "    <img src=\"hw4_4.png\">"
   ]
  },
  {
   "cell_type": "code",
   "execution_count": null,
   "metadata": {},
   "outputs": [],
   "source": [
    "# YOUR CODE MUST BE HERE"
   ]
  },
  {
   "cell_type": "markdown",
   "metadata": {},
   "source": [
    "## Ethics:\n",
    "If you cheat, you will get negatgive of the total points.\n",
    "If the homework total is 22 and you cheat, you get -22."
   ]
  },
  {
   "cell_type": "markdown",
   "metadata": {},
   "source": [
    "## What to submit\n",
    "- Run all cells\n",
    "- Goto \"File -> Print Preview\"\n",
    "- Print the page\n",
    "- Submit in class\n",
    "- No late homeworks accepted\n",
    "- Your homework will be graded on the basis of correctness and programming skills"
   ]
  },
  {
   "cell_type": "markdown",
   "metadata": {},
   "source": [
    "## Deadline: 4/18"
   ]
  }
 ],
 "metadata": {
  "hide_input": false,
  "kernelspec": {
   "display_name": "Python 3",
   "language": "python",
   "name": "python3"
  },
  "language_info": {
   "codemirror_mode": {
    "name": "ipython",
    "version": 3
   },
   "file_extension": ".py",
   "mimetype": "text/x-python",
   "name": "python",
   "nbconvert_exporter": "python",
   "pygments_lexer": "ipython3",
   "version": "3.7.1"
  }
 },
 "nbformat": 4,
 "nbformat_minor": 2
}
