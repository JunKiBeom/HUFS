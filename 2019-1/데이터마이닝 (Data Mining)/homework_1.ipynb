{
 "cells": [
  {
   "cell_type": "markdown",
   "metadata": {},
   "source": [
    "# Homework 1. Frequent itemset"
   ]
  },
  {
   "cell_type": "markdown",
   "metadata": {},
   "source": [
    "***Double Click here to edit this cell***\n",
    "\n",
    "- Name: 전기범\n",
    "- Student ID: 201703091\n",
    "- Submission date: 2019/03/18"
   ]
  },
  {
   "cell_type": "markdown",
   "metadata": {},
   "source": [
    "*Remark. Do not import numpy, pandas, sklearn, or any module implementing the solution directly*"
   ]
  },
  {
   "cell_type": "markdown",
   "metadata": {},
   "source": [
    "## Frequent itemset\n",
    "- ***Support*** is an indication of how frequently the itemset $X$ appears in the dataset $T$.\n",
    "- The support of X with respect to T is defined as the proportion of transactions t in the dataset which contains the itemset X.\n",
    "\n",
    "$$\n",
    "{\\displaystyle \\mathrm {supp} (X)={\\frac {|\\{t\\in T;X\\subseteq t\\}|}{|T|}}} \n",
    "$$\n",
    "\n",
    "- Frequent itemset is an itemset whose support $\\ge$ ***min_sup***."
   ]
  },
  {
   "cell_type": "markdown",
   "metadata": {},
   "source": [
    "## Data set\n",
    "\n",
    "- Each line in the following can be imagined as a market basket, which contains items you want to buy."
   ]
  },
  {
   "cell_type": "code",
   "execution_count": 1,
   "metadata": {},
   "outputs": [],
   "source": [
    "# DO NOT EDIT THIS CELL\n",
    "data_str = 'apple,beer,rice,chicken\\n'\n",
    "data_str += 'apple,beer,rice\\n'\n",
    "data_str += 'apple,beer\\n'\n",
    "data_str += 'apple,mango\\n'\n",
    "data_str += 'milk,beer,rice,chicken\\n'\n",
    "data_str += 'milk,beer,rice\\n'\n",
    "data_str += 'milk,beer\\n'\n",
    "data_str += 'milk,mango'"
   ]
  },
  {
   "cell_type": "markdown",
   "metadata": {},
   "source": [
    "## Problem 1 (2 pts)\n",
    "\n",
    "- Define a function ***record_gen*** generating a list of items each ***next***.\n",
    "- It must be a generator.\n",
    "- Use ***yield*** instead of ***return***"
   ]
  },
  {
   "cell_type": "code",
   "execution_count": 2,
   "metadata": {
    "hide_input": false
   },
   "outputs": [],
   "source": [
    "# YOUR CODE MUST BE HERE\n",
    "\n",
    "def gen_record(s):\n",
    "    an = ', '.join(s.split(\",\")).split(\"\\n\")\n",
    "    for i in range(len(an)):\n",
    "        yield an[i].split(', ')"
   ]
  },
  {
   "cell_type": "code",
   "execution_count": 3,
   "metadata": {},
   "outputs": [
    {
     "data": {
      "text/plain": [
       "['apple', 'beer', 'rice', 'chicken']"
      ]
     },
     "execution_count": 3,
     "metadata": {},
     "output_type": "execute_result"
    }
   ],
   "source": [
    "# DO NOT EDIT THIS CELL\n",
    "test = gen_record(data_str)\n",
    "next(test)"
   ]
  },
  {
   "cell_type": "markdown",
   "metadata": {},
   "source": [
    "**Your output must be:**\n",
    "```\n",
    "['apple', 'beer', 'rice', 'chicken']\n",
    "```"
   ]
  },
  {
   "cell_type": "code",
   "execution_count": 4,
   "metadata": {},
   "outputs": [
    {
     "data": {
      "text/plain": [
       "['apple', 'beer', 'rice']"
      ]
     },
     "execution_count": 4,
     "metadata": {},
     "output_type": "execute_result"
    }
   ],
   "source": [
    "# DO NOT EDIT THIS CELL\n",
    "next(test)"
   ]
  },
  {
   "cell_type": "markdown",
   "metadata": {},
   "source": [
    "**Your output must be:**\n",
    "```\n",
    "['apple', 'beer', 'rice']\n",
    "```"
   ]
  },
  {
   "cell_type": "markdown",
   "metadata": {},
   "source": [
    "## Problem 2 (10 pts)\n",
    "\n",
    "- Define a function ***gen_frequent_1_itemset*** generating 1-itemset.\n",
    "- It must be a generator.\n",
    "- We want to find frequent 1-itemset (itemset containing only 1 item)"
   ]
  },
  {
   "cell_type": "code",
   "execution_count": 5,
   "metadata": {},
   "outputs": [],
   "source": [
    "# YOUR CODE MUST BE HERE\n",
    "\n",
    "def gen_frequent_1_itemset(dataset, min_sup=0.5):\n",
    "    word_cnt={}\n",
    "    for i in range(len(dataset)):\n",
    "        for word in dataset[i]:\n",
    "            try:\n",
    "                word_cnt[word]+=1\n",
    "            except KeyError:\n",
    "                word_cnt[word]=1\n",
    "    for key,cnt in word_cnt.items():\n",
    "        if cnt>=len(data_str.split(\"\\n\"))*min_sup:\n",
    "            yield key"
   ]
  },
  {
   "cell_type": "code",
   "execution_count": 6,
   "metadata": {
    "scrolled": true
   },
   "outputs": [
    {
     "name": "stdout",
     "output_type": "stream",
     "text": [
      "apple\n",
      "beer\n",
      "rice\n",
      "milk\n",
      "No more items\n"
     ]
    }
   ],
   "source": [
    "# DO NOT EDIT THIS CELL\n",
    "dataset = list(gen_record(data_str))\n",
    "for item in gen_frequent_1_itemset(dataset, 0.5):\n",
    "    print(item)\n",
    "print('No more items')"
   ]
  },
  {
   "cell_type": "markdown",
   "metadata": {},
   "source": [
    "**Your output must be:**\n",
    "```\n",
    "rice\n",
    "beer\n",
    "milk\n",
    "apple\n",
    "No more items\n",
    "```"
   ]
  },
  {
   "cell_type": "code",
   "execution_count": 7,
   "metadata": {},
   "outputs": [
    {
     "name": "stdout",
     "output_type": "stream",
     "text": [
      "beer\n",
      "No more items\n"
     ]
    }
   ],
   "source": [
    "# DO NOT EDIT THIS CELL\n",
    "dataset = list(gen_record(data_str))\n",
    "for item in gen_frequent_1_itemset(dataset, 0.7):\n",
    "    print(item)\n",
    "print('No more items')"
   ]
  },
  {
   "cell_type": "markdown",
   "metadata": {},
   "source": [
    "**Your output must be:**\n",
    "```\n",
    "beer\n",
    "No more items\n",
    "```"
   ]
  },
  {
   "cell_type": "code",
   "execution_count": 8,
   "metadata": {
    "hide_input": false
   },
   "outputs": [
    {
     "name": "stdout",
     "output_type": "stream",
     "text": [
      "apple\n",
      "beer\n",
      "rice\n",
      "chicken\n",
      "mango\n",
      "milk\n",
      "No more items\n"
     ]
    }
   ],
   "source": [
    "# DO NOT EDIT THIS CELL\n",
    "dataset = list(gen_record(data_str))\n",
    "for item in gen_frequent_1_itemset(dataset, 0.2):\n",
    "    print(item)\n",
    "print('No more items')"
   ]
  },
  {
   "cell_type": "markdown",
   "metadata": {},
   "source": [
    "**Your output must be:**\n",
    "```\n",
    "rice\n",
    "chicken\n",
    "beer\n",
    "mango\n",
    "milk\n",
    "apple\n",
    "No more items\n",
    "```"
   ]
  },
  {
   "cell_type": "markdown",
   "metadata": {},
   "source": [
    "## Problem 3 (10 pts)\n",
    "\n",
    "- Define a function ***gen_frequent_2_itemset*** generating 2-itemset.\n",
    "- It must be a generator.\n",
    "- We want to find frequent 2-itemset (itemset containing only 2 items)"
   ]
  },
  {
   "cell_type": "code",
   "execution_count": 9,
   "metadata": {},
   "outputs": [],
   "source": [
    "# YOUR CODE MUST BE HERE\n",
    "\n",
    "def gen_frequent_2_itemset(dataset, min_sup=0.5):\n",
    "    d=set()\n",
    "    data_set=[]\n",
    "    for i in range(len(dataset)):\n",
    "        a=dataset[i]\n",
    "        for j in range(len(a)):\n",
    "            d.add(a[j])\n",
    "    d=list(d)\n",
    "    for x in range(len(d)):\n",
    "        for y in range(x+1,len(d)):\n",
    "            data_set.append((d[x],d[y]))\n",
    "    set_cnt = {}\n",
    "    for _ in range(len(dataset)):\n",
    "        for a in range(len(data_set)):\n",
    "            cnt = 0\n",
    "            if data_set[a][0] in dataset[_]:\n",
    "                cnt+=1\n",
    "            if data_set[a][1] in dataset[_]:\n",
    "                cnt+=1\n",
    "            if cnt==2:\n",
    "                try:\n",
    "                    set_cnt[data_set[a]] += 1\n",
    "                except KeyError:\n",
    "                    set_cnt[data_set[a]] = 1\n",
    "    for key, cnt in set_cnt.items():\n",
    "        if cnt >= len(data_str.split(\"\\n\")) * min_sup:\n",
    "            yield key"
   ]
  },
  {
   "cell_type": "code",
   "execution_count": 10,
   "metadata": {},
   "outputs": [
    {
     "name": "stdout",
     "output_type": "stream",
     "text": [
      "('beer', 'rice')\n",
      "No more items\n"
     ]
    }
   ],
   "source": [
    "# DO NOT EDIT THIS CELL\n",
    "data = list(gen_record(data_str))\n",
    "for item in gen_frequent_2_itemset(data, 0.5):\n",
    "    print(item)\n",
    "print('No more items')"
   ]
  },
  {
   "cell_type": "markdown",
   "metadata": {},
   "source": [
    "**Your output must be:**\n",
    "```\n",
    "('beer', 'rice')\n",
    "No more items\n",
    "```"
   ]
  },
  {
   "cell_type": "code",
   "execution_count": 11,
   "metadata": {},
   "outputs": [
    {
     "name": "stdout",
     "output_type": "stream",
     "text": [
      "('apple', 'beer')\n",
      "('beer', 'rice')\n",
      "('milk', 'beer')\n",
      "No more items\n"
     ]
    }
   ],
   "source": [
    "# DO NOT EDIT THIS CELL\n",
    "data = list(gen_record(data_str))\n",
    "for item in gen_frequent_2_itemset(data, 0.3):\n",
    "    print(item)\n",
    "print('No more items')"
   ]
  },
  {
   "cell_type": "markdown",
   "metadata": {},
   "source": [
    "**Your output must be:**\n",
    "```\n",
    "('beer', 'rice')\n",
    "('beer', 'milk')\n",
    "('apple', 'beer')\n",
    "No more items\n",
    "```"
   ]
  },
  {
   "cell_type": "code",
   "execution_count": 12,
   "metadata": {},
   "outputs": [
    {
     "name": "stdout",
     "output_type": "stream",
     "text": [
      "('chicken', 'beer')\n",
      "('chicken', 'rice')\n",
      "('apple', 'beer')\n",
      "('apple', 'rice')\n",
      "('beer', 'rice')\n",
      "('milk', 'beer')\n",
      "('milk', 'rice')\n",
      "No more items\n"
     ]
    }
   ],
   "source": [
    "# DO NOT EDIT THIS CELL\n",
    "dataset = list(gen_record(data_str))\n",
    "for item in gen_frequent_2_itemset(dataset, 0.2):\n",
    "    print(item)\n",
    "print('No more items')"
   ]
  },
  {
   "cell_type": "markdown",
   "metadata": {},
   "source": [
    "**Your output must be:**\n",
    "```\n",
    "('chicken', 'rice')\n",
    "('beer', 'rice')\n",
    "('beer', 'chicken')\n",
    "('beer', 'milk')\n",
    "('milk', 'rice')\n",
    "('apple', 'rice')\n",
    "('apple', 'beer')\n",
    "No more items\n",
    "```"
   ]
  },
  {
   "cell_type": "markdown",
   "metadata": {},
   "source": [
    "## Ethics:\n",
    "If you cheat, you will get negatgive of the total points.\n",
    "If the homework total is 22 and you cheat, you get -22."
   ]
  },
  {
   "cell_type": "markdown",
   "metadata": {},
   "source": [
    "## What to submit\n",
    "- Run all cells\n",
    "- Goto \"File -> Print Preview\"\n",
    "- Print the page\n",
    "- Submit in class\n",
    "- No late homeworks accepted\n",
    "- Your homework will be graded on the basis of correctness and programming skills"
   ]
  },
  {
   "cell_type": "markdown",
   "metadata": {},
   "source": [
    "## Deadline: 3/18"
   ]
  }
 ],
 "metadata": {
  "hide_input": false,
  "kernelspec": {
   "display_name": "Python 3",
   "language": "python",
   "name": "python3"
  },
  "language_info": {
   "codemirror_mode": {
    "name": "ipython",
    "version": 3
   },
   "file_extension": ".py",
   "mimetype": "text/x-python",
   "name": "python",
   "nbconvert_exporter": "python",
   "pygments_lexer": "ipython3",
   "version": "3.7.1"
  }
 },
 "nbformat": 4,
 "nbformat_minor": 2
}
